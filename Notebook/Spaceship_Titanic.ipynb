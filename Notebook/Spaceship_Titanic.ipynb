{
 "cells": [
  {
   "cell_type": "markdown",
   "metadata": {},
   "source": [
    "# Exploratory Data Analysis on the problem of `Predicting Passenger Transportation on the Spaceship Titanic`"
   ]
  },
  {
   "cell_type": "markdown",
   "metadata": {},
   "source": [
    "Recently, I've stumbled upon this interesting Kaggle challenge called `Spaceship Titanic`. It's a fun twist on the classic Titanic dataset, but with a sci-fi spin. Basically, we've got this spaceship that had an accident, and now we're trying to predict which passengers were transported to an alternate dimension. Wild, right?\n",
    "\n",
    "The thing is, this isn't just about solving this specific problem. So, I've stumbled upon this interesting Kaggle challenge called \"Spaceship Titanic\". It's a fun twist on the classic Titanic dataset, but with a sci-fi spin. Basically, we've got this spaceship that had an accident, and now we're trying to predict which passengers were transported to an alternate dimension. Wild, right?\n",
    "The thing is, this isn't just about solving this specific problem. It's more important to understand how to tackle prediction problems of this nature in general. Before we begin developing any prediction models, we will go into some Exploratory Data Analysis (EDA) approaches that can truly help us understand our data better.\n",
    "\n",
    "The interesting thing about this is that space transportation predictions aren't the only use for these EDA techniques. Once you get the hang of them, you can use the same strategies to solve a wide range of problems - such as identifying patients who are at high risk for a particular disease or predicting customer attrition for a firm.\n",
    "\n",
    "We're sticking with our space travelers for the time being, though. By sifting through the data and looking for trends, we expect to increase the likelihood that our predictions will come true.\n"
   ]
  },
  {
   "cell_type": "markdown",
   "metadata": {},
   "source": [
    "# Basic Imports"
   ]
  },
  {
   "cell_type": "markdown",
   "metadata": {},
   "source": [
    "To automatically reload modules that have been imported into the active Python session, we'll use an IPython magic command. \n",
    "\n",
    "The `%load_ext` magic command is used to load an IPython extension. In this case, it loads the autoreload extension, which allows modules to be automatically reloaded when their source code changes. \n",
    "\n",
    "The `%autoreload` magic command is then used to configure the autoreload extension. The 2 parameter instructs the extension to reload any modules that were imported by those modules in addition to any modules loaded with the import statement. This guarantees that any modifications made to those modules' source code are reflected in the Python session that is now running. \n",
    "\n",
    "When writing and testing code, using %autoreload can be useful since it lets you make changes to the source code and see the effects right away without needing to manually reload the modules or restart the Python interpreter. \n",
    "\n",
    "To use `%autoreload`, you need to run the code in an IPython console or Jupyter notebook. It will not work in a regular Python console. "
   ]
  },
  {
   "cell_type": "code",
   "execution_count": 1,
   "metadata": {},
   "outputs": [],
   "source": [
    "%load_ext autoreload\n",
    "%autoreload 2"
   ]
  },
  {
   "cell_type": "markdown",
   "metadata": {},
   "source": [
    "Next, we'll import the `warnings` module and set it up to manage how warnings are displayed while our Python code runs. We'll configure the warnings module to ignore all warnings that come up during execution. This can be really helpful when you're running code that generates a lot of warnings, as it keeps the output clean and uncluttered.\n",
    "\n",
    "We'll also import the `clear_output` function from the IPython.core.display module. This function is handy for clearing the output of the current console or notebook cell, making it easier to focus on the latest results without being distracted by previous output."
   ]
  },
  {
   "cell_type": "code",
   "execution_count": 2,
   "metadata": {},
   "outputs": [],
   "source": [
    "# Imports the warnings module from the Python standard library\n",
    "import warnings\n",
    "\n",
    "# Configuration to ignore all warnings that are generated during the execution of the code\n",
    "warnings.filterwarnings('ignore')\n",
    "\n",
    "# Imports the clear_output function from the IPython.core.display module\n",
    "from IPython.core.display import clear_output\n",
    "\n",
    "clear_output()"
   ]
  },
  {
   "cell_type": "markdown",
   "metadata": {},
   "source": [
    "Let's start by importing some key libraries we'll need for our machine learning project. We'll grab `NumPy` and `Pandas` for data handling, `Scikit-learn` for ML tools, and `Matplotlib` for visualizations.\n",
    "\n",
    "NumPy is great for number crunching, while Pandas helps us wrangle our data into shape. Matplotlib will let us create some nice charts to show off our results.\n",
    "\n",
    "From Scikit-learn, we'll also pull in a few specific functions:\n",
    "- StandardScaler to normalize our data\n",
    "- train_test_split to divide our dataset for training and testing\n",
    "\n",
    "For evaluating our model's performance, we'll use three handy metrics from sklearn:\n",
    "- accuracy_score (how often our model gets it right)\n",
    "- confusion_matrix (a breakdown of our predictions)\n",
    "- classification_report (gives us precision, recall, and F1-score)\n",
    "\n",
    "These tools will give us everything we need to build, train, and assess our machine learning model."
   ]
  },
  {
   "cell_type": "code",
   "execution_count": 3,
   "metadata": {},
   "outputs": [],
   "source": [
    "# Imports the NumPy library\n",
    "import numpy as np\n",
    "\n",
    "# Imports the Pandas library\n",
    "import pandas as pd\n",
    "\n",
    "# Imports the pyplot module of Matplotlib library\n",
    "import matplotlib.pyplot as plt\n",
    "\n",
    "# Imports the StandardScaler class from the sklearn.preprocessing module\n",
    "from sklearn.preprocessing import StandardScaler\n",
    "\n",
    "# Imports the train_test_split function from the sklearn.model_selection module\n",
    "from sklearn.model_selection import train_test_split\n",
    "\n",
    "# Imports three functions from the sklearn.metrics module: accuracy_score, confusion_matrix, and classification_report\n",
    "from sklearn.metrics import accuracy_score, confusion_matrix, classification_report"
   ]
  },
  {
   "cell_type": "markdown",
   "metadata": {},
   "source": [
    "Let's import some essential tools from PyTorch - it's our go-to library for deep learning in Python.\n",
    "\n",
    "First up, we've got `torch.nn`. Think of it as a treasure chest of pre-made neural network building blocks. Need a specific type of layer? It's probably in there.\n",
    "\n",
    "Then there's `torch.optim`. This is where we'll find our optimization algorithms - the secret sauce that helps our models learn and improve.\n",
    "\n",
    "Lastly, we're pulling in a couple of handy classes from `torch.utils.data`:\n",
    "- `DataLoader`: This guy helps us feed data to our model in bite-sized chunks.\n",
    "- `TensorDataset`: It's like a container that keeps our data nicely organized in tensor form.\n",
    "\n",
    "With these PyTorch tools in our belt, we're all set to dive into some serious deep learning!"
   ]
  },
  {
   "cell_type": "code",
   "execution_count": 4,
   "metadata": {},
   "outputs": [],
   "source": [
    "# Imports the PyTorch library\n",
    "import torch\n",
    "\n",
    "# Imports the torch.nn module\n",
    "import torch.nn as nn\n",
    "\n",
    "# Imports the torch.optim module\n",
    "import torch.optim as optim\n",
    "\n",
    "# Imports two classes from the torch.utils.data module: DataLoader and TensorDataset\n",
    "from torch.utils.data import DataLoader, TensorDataset"
   ]
  },
  {
   "cell_type": "markdown",
   "metadata": {},
   "source": [
    "# Data Download:"
   ]
  },
  {
   "cell_type": "markdown",
   "metadata": {},
   "source": [
    "Hey, time to snag our dataset! We're gonna raid Kaggle's treasure trove of data - specifically, their competition stash.\n",
    "\n",
    "Check out this magic spell we're about to cast:\n",
    "\n",
    "!kaggle competitions download -c spaceship-titanic -p ../Data/\n",
    "\n",
    "Cool, huh? Let me give you the lowdown on what's happening here:\n",
    "\n",
    "- That `!` at the start? It's like us whispering to our notebook, \"Psst, this isn't Python. Run it in the shell, okay?\"\n",
    "- We're basically telling Kaggle, \"Hey, hand over that competition data!\"\n",
    "- The `-c spaceship-titanic` bit? That's us pointing at the specific competition. Spaceship Titanic, folks! Sounds like we're in for some sci-fi shenanigans.\n",
    "- And `-p ../Data/`? That's just us telling our computer where to stash the goods. We're tucking it into a `Data` folder just up the directory tree.\n",
    "\n",
    "Hit enter, and boom! Our computer's gonna chat up Kaggle, grab that dataset, and dump it in our specified hidey-hole. Fair warning: it'll probably show up wearing a zip file costume, so we'll need to help it out of that before the real fun begins.\n",
    "\n",
    "There you have it, folks! One line of code, and we've just scored ourselves a galactic Titanic's worth of data. Ready to boldly go where no data scientist has gone before?"
   ]
  },
  {
   "cell_type": "code",
   "execution_count": 5,
   "metadata": {},
   "outputs": [
    {
     "name": "stdout",
     "output_type": "stream",
     "text": [
      "spaceship-titanic.zip: Skipping, found more recently modified local copy (use --force to force download)\n"
     ]
    }
   ],
   "source": [
    "# The kaggle competitions download command is used to download a dataset from a Kaggle competition\n",
    "!kaggle competitions download -c spaceship-titanic -p ../Data/"
   ]
  },
  {
   "cell_type": "markdown",
   "metadata": {},
   "source": [
    "Alright, time to crack open that data piñata we just downloaded! We're gonna use Python's `zipfile` module - it's like a digital Swiss Army knife for dealing with zipped-up files.\n",
    "\n",
    "Think of it this way: we've got this compressed file, right? That's where `zipfile` comes in handy.\n",
    "\n",
    "This little trick is super useful when you're dealing with datasets that come all bundled up in a ZIP file. It's pretty common in the data science world - kinda like getting a LEGO set where all the pieces are in sealed bags. We need to open those bags (or in this case, unzip our file) before we can start building our awesome machine learning models.\n",
    "\n",
    "So, we'll use `zipfile` to unzip our data and spread it out in a nice, tidy folder. Then we'll be all set to dive in and start our data adventure!"
   ]
  },
  {
   "cell_type": "code",
   "execution_count": 6,
   "metadata": {},
   "outputs": [],
   "source": [
    "# Imports the zipfile module\n",
    "import zipfile\n",
    "\n",
    "# Opens the ZIP file in read-only mode and assign it to the variable zip_ref\n",
    "# The with statement is used to ensure that the file is properly closed after use\n",
    "with zipfile.ZipFile('../Data/spaceship-titanic.zip', 'r') as zip_ref:\n",
    "\n",
    "    # Extracts all the files from the ZIP archive and saves them to the specified directory\n",
    "    zip_ref.extractall('../Data/')"
   ]
  },
  {
   "cell_type": "markdown",
   "metadata": {},
   "source": [
    "Alright, let's set up our file paths! We're gonna use this cool thing called `Path` from Python's `pathlib` module. It's like a GPS for our computer - helps us tell our program where to find stuff.\n",
    "\n",
    "We're gonna make two paths:\n",
    "1. One for where our data lives\n",
    "2. Another for where we'll stash our models\n",
    "\n",
    "Using `Path` is pretty sweet because it works no matter what kind of computer you're using. It's like a universal translator for file locations. No more headaches about forward slashes, backslashes, or forgotten dots!\n",
    "\n",
    "Think of it this way: we're giving our program a map so it knows exactly where to go to grab our data and where to save our machine learning creations. It's like leaving breadcrumbs for our code to follow. Neat, huh?"
   ]
  },
  {
   "cell_type": "code",
   "execution_count": 7,
   "metadata": {},
   "outputs": [],
   "source": [
    "# Imports the Path class from the pathlib module\n",
    "from pathlib import Path\n",
    "\n",
    "# The posix path of the data and models are assigned to the corresponding variables\n",
    "data_path = Path('../Data/')\n",
    "model_path = Path('../Models/NN/')"
   ]
  },
  {
   "cell_type": "markdown",
   "metadata": {},
   "source": [
    "# Data Exploration:"
   ]
  },
  {
   "cell_type": "markdown",
   "metadata": {},
   "source": [
    "Alright, data wrangling time! We've use the trusty pandas library, so let's put it to work.\n",
    "\n",
    "Here's what we're gonna do:\n",
    "1. Grab our training data from 'train.csv'\n",
    "2. Snag our testing data from 'test.csv'\n",
    "\n",
    "We're using this nifty pandas trick called `pd.read_csv()`. It's like a vacuum cleaner for CSV files - just point it at your file, and whoosh! It sucks up all that data and spits out a nice, tidy DataFrame.\n",
    "\n",
    "We're gonna call our training data `train_df_org` and our testing data `test_df_org`. The '_org' bit? That's just us being smart and keeping our original data safe. Always good to have a backup, right?\n",
    "\n",
    "There's a ton of cool resources out there to help you with the pandas library.\n",
    "\n",
    "pandas documentation: https://pandas.pydata.org/docs/\n",
    "\n",
    "pandas tutorial: https://pandas.pydata.org/pandas-docs/stable/user_guide/10min.html\n",
    "\n",
    "pandas cheat sheet: https://pandas.pydata.org/Pandas_Cheat_Sheet.pdf"
   ]
  },
  {
   "cell_type": "code",
   "execution_count": 8,
   "metadata": {},
   "outputs": [],
   "source": [
    "# Reads the 'train.csv' file and saves as a DataFrame object\n",
    "train_df_org = pd.read_csv(data_path/'train.csv')\n",
    "\n",
    "# Reads the 'test.csv' file and saves as a DataFrame object\n",
    "test_df_org = pd.read_csv(data_path/'test.csv')"
   ]
  },
  {
   "cell_type": "markdown",
   "metadata": {},
   "source": [
    "Let's copy the two DataFrame objects before we start manipulating them. This was, we can refer back to the original DataFrames whenever we need."
   ]
  },
  {
   "cell_type": "code",
   "execution_count": 9,
   "metadata": {},
   "outputs": [],
   "source": [
    "# Copies the original DataFrame objects to another \n",
    "train_df = train_df_org.copy()\n",
    "test_df = test_df_org.copy()"
   ]
  },
  {
   "cell_type": "markdown",
   "metadata": {},
   "source": [
    "Now, let's quickly inspect the contents of the large training DataFrame to get an overview of its structure and contents. We'll use the `head()` function from pandas to display the initial entries. This will give us a quick snapshot of our data without overwhelming us with the entire dataset.\n",
    "By default, `head()` shows the first 5 rows, but we can adjust this if needed. For instance, `head(10)` would display the first 10 rows.\n",
    "This initial inspection can help us understand the variables we're working with, identify any immediate data quality issues, and start formulating our analysis strategy."
   ]
  },
  {
   "cell_type": "code",
   "execution_count": 10,
   "metadata": {},
   "outputs": [
    {
     "data": {
      "text/html": [
       "<div>\n",
       "<style scoped>\n",
       "    .dataframe tbody tr th:only-of-type {\n",
       "        vertical-align: middle;\n",
       "    }\n",
       "\n",
       "    .dataframe tbody tr th {\n",
       "        vertical-align: top;\n",
       "    }\n",
       "\n",
       "    .dataframe thead th {\n",
       "        text-align: right;\n",
       "    }\n",
       "</style>\n",
       "<table border=\"1\" class=\"dataframe\">\n",
       "  <thead>\n",
       "    <tr style=\"text-align: right;\">\n",
       "      <th></th>\n",
       "      <th>PassengerId</th>\n",
       "      <th>HomePlanet</th>\n",
       "      <th>CryoSleep</th>\n",
       "      <th>Cabin</th>\n",
       "      <th>Destination</th>\n",
       "      <th>Age</th>\n",
       "      <th>VIP</th>\n",
       "      <th>RoomService</th>\n",
       "      <th>FoodCourt</th>\n",
       "      <th>ShoppingMall</th>\n",
       "      <th>Spa</th>\n",
       "      <th>VRDeck</th>\n",
       "      <th>Name</th>\n",
       "      <th>Transported</th>\n",
       "    </tr>\n",
       "  </thead>\n",
       "  <tbody>\n",
       "    <tr>\n",
       "      <th>0</th>\n",
       "      <td>0001_01</td>\n",
       "      <td>Europa</td>\n",
       "      <td>False</td>\n",
       "      <td>B/0/P</td>\n",
       "      <td>TRAPPIST-1e</td>\n",
       "      <td>39.0</td>\n",
       "      <td>False</td>\n",
       "      <td>0.0</td>\n",
       "      <td>0.0</td>\n",
       "      <td>0.0</td>\n",
       "      <td>0.0</td>\n",
       "      <td>0.0</td>\n",
       "      <td>Maham Ofracculy</td>\n",
       "      <td>False</td>\n",
       "    </tr>\n",
       "    <tr>\n",
       "      <th>1</th>\n",
       "      <td>0002_01</td>\n",
       "      <td>Earth</td>\n",
       "      <td>False</td>\n",
       "      <td>F/0/S</td>\n",
       "      <td>TRAPPIST-1e</td>\n",
       "      <td>24.0</td>\n",
       "      <td>False</td>\n",
       "      <td>109.0</td>\n",
       "      <td>9.0</td>\n",
       "      <td>25.0</td>\n",
       "      <td>549.0</td>\n",
       "      <td>44.0</td>\n",
       "      <td>Juanna Vines</td>\n",
       "      <td>True</td>\n",
       "    </tr>\n",
       "    <tr>\n",
       "      <th>2</th>\n",
       "      <td>0003_01</td>\n",
       "      <td>Europa</td>\n",
       "      <td>False</td>\n",
       "      <td>A/0/S</td>\n",
       "      <td>TRAPPIST-1e</td>\n",
       "      <td>58.0</td>\n",
       "      <td>True</td>\n",
       "      <td>43.0</td>\n",
       "      <td>3576.0</td>\n",
       "      <td>0.0</td>\n",
       "      <td>6715.0</td>\n",
       "      <td>49.0</td>\n",
       "      <td>Altark Susent</td>\n",
       "      <td>False</td>\n",
       "    </tr>\n",
       "    <tr>\n",
       "      <th>3</th>\n",
       "      <td>0003_02</td>\n",
       "      <td>Europa</td>\n",
       "      <td>False</td>\n",
       "      <td>A/0/S</td>\n",
       "      <td>TRAPPIST-1e</td>\n",
       "      <td>33.0</td>\n",
       "      <td>False</td>\n",
       "      <td>0.0</td>\n",
       "      <td>1283.0</td>\n",
       "      <td>371.0</td>\n",
       "      <td>3329.0</td>\n",
       "      <td>193.0</td>\n",
       "      <td>Solam Susent</td>\n",
       "      <td>False</td>\n",
       "    </tr>\n",
       "    <tr>\n",
       "      <th>4</th>\n",
       "      <td>0004_01</td>\n",
       "      <td>Earth</td>\n",
       "      <td>False</td>\n",
       "      <td>F/1/S</td>\n",
       "      <td>TRAPPIST-1e</td>\n",
       "      <td>16.0</td>\n",
       "      <td>False</td>\n",
       "      <td>303.0</td>\n",
       "      <td>70.0</td>\n",
       "      <td>151.0</td>\n",
       "      <td>565.0</td>\n",
       "      <td>2.0</td>\n",
       "      <td>Willy Santantines</td>\n",
       "      <td>True</td>\n",
       "    </tr>\n",
       "  </tbody>\n",
       "</table>\n",
       "</div>"
      ],
      "text/plain": [
       "  PassengerId HomePlanet CryoSleep  Cabin  Destination   Age    VIP  \\\n",
       "0     0001_01     Europa     False  B/0/P  TRAPPIST-1e  39.0  False   \n",
       "1     0002_01      Earth     False  F/0/S  TRAPPIST-1e  24.0  False   \n",
       "2     0003_01     Europa     False  A/0/S  TRAPPIST-1e  58.0   True   \n",
       "3     0003_02     Europa     False  A/0/S  TRAPPIST-1e  33.0  False   \n",
       "4     0004_01      Earth     False  F/1/S  TRAPPIST-1e  16.0  False   \n",
       "\n",
       "   RoomService  FoodCourt  ShoppingMall     Spa  VRDeck               Name  \\\n",
       "0          0.0        0.0           0.0     0.0     0.0    Maham Ofracculy   \n",
       "1        109.0        9.0          25.0   549.0    44.0       Juanna Vines   \n",
       "2         43.0     3576.0           0.0  6715.0    49.0      Altark Susent   \n",
       "3          0.0     1283.0         371.0  3329.0   193.0       Solam Susent   \n",
       "4        303.0       70.0         151.0   565.0     2.0  Willy Santantines   \n",
       "\n",
       "   Transported  \n",
       "0        False  \n",
       "1         True  \n",
       "2        False  \n",
       "3        False  \n",
       "4         True  "
      ]
     },
     "execution_count": 10,
     "metadata": {},
     "output_type": "execute_result"
    }
   ],
   "source": [
    "# Shows the top five rows of the DataFrame holding the training data\n",
    "train_df.head()"
   ]
  },
  {
   "cell_type": "markdown",
   "metadata": {},
   "source": [
    "We now take a quick look at the test data as well. Notice that the target column `Transported` is missing in the test data and our goal will be to predict the value of that target variable."
   ]
  },
  {
   "cell_type": "code",
   "execution_count": 11,
   "metadata": {},
   "outputs": [
    {
     "data": {
      "text/html": [
       "<div>\n",
       "<style scoped>\n",
       "    .dataframe tbody tr th:only-of-type {\n",
       "        vertical-align: middle;\n",
       "    }\n",
       "\n",
       "    .dataframe tbody tr th {\n",
       "        vertical-align: top;\n",
       "    }\n",
       "\n",
       "    .dataframe thead th {\n",
       "        text-align: right;\n",
       "    }\n",
       "</style>\n",
       "<table border=\"1\" class=\"dataframe\">\n",
       "  <thead>\n",
       "    <tr style=\"text-align: right;\">\n",
       "      <th></th>\n",
       "      <th>PassengerId</th>\n",
       "      <th>HomePlanet</th>\n",
       "      <th>CryoSleep</th>\n",
       "      <th>Cabin</th>\n",
       "      <th>Destination</th>\n",
       "      <th>Age</th>\n",
       "      <th>VIP</th>\n",
       "      <th>RoomService</th>\n",
       "      <th>FoodCourt</th>\n",
       "      <th>ShoppingMall</th>\n",
       "      <th>Spa</th>\n",
       "      <th>VRDeck</th>\n",
       "      <th>Name</th>\n",
       "    </tr>\n",
       "  </thead>\n",
       "  <tbody>\n",
       "    <tr>\n",
       "      <th>0</th>\n",
       "      <td>0013_01</td>\n",
       "      <td>Earth</td>\n",
       "      <td>True</td>\n",
       "      <td>G/3/S</td>\n",
       "      <td>TRAPPIST-1e</td>\n",
       "      <td>27.0</td>\n",
       "      <td>False</td>\n",
       "      <td>0.0</td>\n",
       "      <td>0.0</td>\n",
       "      <td>0.0</td>\n",
       "      <td>0.0</td>\n",
       "      <td>0.0</td>\n",
       "      <td>Nelly Carsoning</td>\n",
       "    </tr>\n",
       "    <tr>\n",
       "      <th>1</th>\n",
       "      <td>0018_01</td>\n",
       "      <td>Earth</td>\n",
       "      <td>False</td>\n",
       "      <td>F/4/S</td>\n",
       "      <td>TRAPPIST-1e</td>\n",
       "      <td>19.0</td>\n",
       "      <td>False</td>\n",
       "      <td>0.0</td>\n",
       "      <td>9.0</td>\n",
       "      <td>0.0</td>\n",
       "      <td>2823.0</td>\n",
       "      <td>0.0</td>\n",
       "      <td>Lerome Peckers</td>\n",
       "    </tr>\n",
       "    <tr>\n",
       "      <th>2</th>\n",
       "      <td>0019_01</td>\n",
       "      <td>Europa</td>\n",
       "      <td>True</td>\n",
       "      <td>C/0/S</td>\n",
       "      <td>55 Cancri e</td>\n",
       "      <td>31.0</td>\n",
       "      <td>False</td>\n",
       "      <td>0.0</td>\n",
       "      <td>0.0</td>\n",
       "      <td>0.0</td>\n",
       "      <td>0.0</td>\n",
       "      <td>0.0</td>\n",
       "      <td>Sabih Unhearfus</td>\n",
       "    </tr>\n",
       "    <tr>\n",
       "      <th>3</th>\n",
       "      <td>0021_01</td>\n",
       "      <td>Europa</td>\n",
       "      <td>False</td>\n",
       "      <td>C/1/S</td>\n",
       "      <td>TRAPPIST-1e</td>\n",
       "      <td>38.0</td>\n",
       "      <td>False</td>\n",
       "      <td>0.0</td>\n",
       "      <td>6652.0</td>\n",
       "      <td>0.0</td>\n",
       "      <td>181.0</td>\n",
       "      <td>585.0</td>\n",
       "      <td>Meratz Caltilter</td>\n",
       "    </tr>\n",
       "    <tr>\n",
       "      <th>4</th>\n",
       "      <td>0023_01</td>\n",
       "      <td>Earth</td>\n",
       "      <td>False</td>\n",
       "      <td>F/5/S</td>\n",
       "      <td>TRAPPIST-1e</td>\n",
       "      <td>20.0</td>\n",
       "      <td>False</td>\n",
       "      <td>10.0</td>\n",
       "      <td>0.0</td>\n",
       "      <td>635.0</td>\n",
       "      <td>0.0</td>\n",
       "      <td>0.0</td>\n",
       "      <td>Brence Harperez</td>\n",
       "    </tr>\n",
       "  </tbody>\n",
       "</table>\n",
       "</div>"
      ],
      "text/plain": [
       "  PassengerId HomePlanet CryoSleep  Cabin  Destination   Age    VIP  \\\n",
       "0     0013_01      Earth      True  G/3/S  TRAPPIST-1e  27.0  False   \n",
       "1     0018_01      Earth     False  F/4/S  TRAPPIST-1e  19.0  False   \n",
       "2     0019_01     Europa      True  C/0/S  55 Cancri e  31.0  False   \n",
       "3     0021_01     Europa     False  C/1/S  TRAPPIST-1e  38.0  False   \n",
       "4     0023_01      Earth     False  F/5/S  TRAPPIST-1e  20.0  False   \n",
       "\n",
       "   RoomService  FoodCourt  ShoppingMall     Spa  VRDeck              Name  \n",
       "0          0.0        0.0           0.0     0.0     0.0   Nelly Carsoning  \n",
       "1          0.0        9.0           0.0  2823.0     0.0    Lerome Peckers  \n",
       "2          0.0        0.0           0.0     0.0     0.0   Sabih Unhearfus  \n",
       "3          0.0     6652.0           0.0   181.0   585.0  Meratz Caltilter  \n",
       "4         10.0        0.0         635.0     0.0     0.0   Brence Harperez  "
      ]
     },
     "execution_count": 11,
     "metadata": {},
     "output_type": "execute_result"
    }
   ],
   "source": [
    "# Shows the top five rows of the DataFrame holding the test data\n",
    "test_df.head()"
   ]
  },
  {
   "cell_type": "code",
   "execution_count": 12,
   "metadata": {},
   "outputs": [
    {
     "name": "stdout",
     "output_type": "stream",
     "text": [
      "<class 'pandas.core.frame.DataFrame'>\n",
      "RangeIndex: 8693 entries, 0 to 8692\n",
      "Data columns (total 14 columns):\n",
      " #   Column        Non-Null Count  Dtype  \n",
      "---  ------        --------------  -----  \n",
      " 0   PassengerId   8693 non-null   object \n",
      " 1   HomePlanet    8492 non-null   object \n",
      " 2   CryoSleep     8476 non-null   object \n",
      " 3   Cabin         8494 non-null   object \n",
      " 4   Destination   8511 non-null   object \n",
      " 5   Age           8514 non-null   float64\n",
      " 6   VIP           8490 non-null   object \n",
      " 7   RoomService   8512 non-null   float64\n",
      " 8   FoodCourt     8510 non-null   float64\n",
      " 9   ShoppingMall  8485 non-null   float64\n",
      " 10  Spa           8510 non-null   float64\n",
      " 11  VRDeck        8505 non-null   float64\n",
      " 12  Name          8493 non-null   object \n",
      " 13  Transported   8693 non-null   bool   \n",
      "dtypes: bool(1), float64(6), object(7)\n",
      "memory usage: 891.5+ KB\n"
     ]
    }
   ],
   "source": [
    "train_df.info()"
   ]
  },
  {
   "cell_type": "markdown",
   "metadata": {},
   "source": [
    "Looking at our dataset, we've got some interesting stuff to work with here. Let's break it down:\n",
    "\n",
    "We're dealing with 8693 passengers from the Spaceship Titanic. That's a pretty good number - should give us plenty to analyze without drowning in data.\n",
    "\n",
    "We've got 14 different pieces of info for each passenger. That's like having 14 different ways to understand each person's story on this space journey.\n",
    "\n",
    "Now, the types of data we're looking at:\n",
    "- 7 columns are what we call `object` type - think text or categories. Could be things like where they're from or what class they're traveling in.\n",
    "- 6 columns are numbers with decimal points. Might be stuff like age or ticket price.\n",
    "- 1 column is just yes or no - that's probably our `Transported` column, telling us who got teleported and who didn`t.\n",
    "\n",
    "Here's the tricky part - we're missing some info here and there. Like, for `HomePlanet`, we're missing details for 201 people. The `CryoSleep` column has the most gaps, with 217 missing entries.\n",
    "\n",
    "The whole dataset takes up about 891.5 KB. That's not too hefty - your average computer can handle this no sweat.\n",
    "\n",
    "So, what does all this mean for us?\n",
    "1. We've got some cleaning up to do - filling in those missing bits.\n",
    "2. We'll need to turn those text categories into numbers for our computer to understand.\n",
    "3. Might need to adjust our number columns so they're all on the same scale.\n",
    "4. And it looks like we're trying to predict a yes/no outcome - who gets transported and who doesn't.\n",
    "\n",
    "That's the lay of the land. Ready to dig in and start making sense of this space data?"
   ]
  },
  {
   "cell_type": "code",
   "execution_count": 13,
   "metadata": {},
   "outputs": [
    {
     "data": {
      "text/plain": [
       "Index(['PassengerId', 'HomePlanet', 'CryoSleep', 'Cabin', 'Destination', 'Age',\n",
       "       'VIP', 'RoomService', 'FoodCourt', 'ShoppingMall', 'Spa', 'VRDeck',\n",
       "       'Name', 'Transported'],\n",
       "      dtype='object')"
      ]
     },
     "execution_count": 13,
     "metadata": {},
     "output_type": "execute_result"
    }
   ],
   "source": [
    "train_df.columns"
   ]
  },
  {
   "cell_type": "code",
   "execution_count": 14,
   "metadata": {},
   "outputs": [
    {
     "data": {
      "text/plain": [
       "PassengerId     8693\n",
       "HomePlanet         3\n",
       "CryoSleep          2\n",
       "Cabin           6560\n",
       "Destination        3\n",
       "Age               80\n",
       "VIP                2\n",
       "RoomService     1273\n",
       "FoodCourt       1507\n",
       "ShoppingMall    1115\n",
       "Spa             1327\n",
       "VRDeck          1306\n",
       "Name            8473\n",
       "Transported        2\n",
       "dtype: int64"
      ]
     },
     "execution_count": 14,
     "metadata": {},
     "output_type": "execute_result"
    }
   ],
   "source": [
    "train_df.nunique()"
   ]
  },
  {
   "cell_type": "markdown",
   "metadata": {},
   "source": [
    "Alright, let's chat about what we've discovered from our data snoop:\n",
    "\n",
    "1. Every passenger's got their own special `PassengerId` - all 8693 of 'em. It's like everyone's wearing a different name tag.\n",
    "\n",
    "2. Looks like our space travelers are coming from three different planets. Wonder if there's a galactic Ellis Island?\n",
    "\n",
    "3. `CryoSleep` and `VIP` are yes-or-no deals. Either you're frozen or you're not, either you're a VIP or you're with us regular folk.\n",
    "\n",
    "4. The `Cabin` situation is interesting. We've got 6560 different combos. Bet it's a mix of deck, room number, and which side of the ship you're on. Kinda like a cosmic hotel, eh?\n",
    "\n",
    "5. Three places these folks could end up. Makes you wonder what's special about these three space destinations.\n",
    "\n",
    "6. `Ages` range from 1 to 80. That's quite the spread! Maybe we could group these into kids, adults, seniors if we wanted to simplify things.\n",
    "\n",
    "7. Those service columns (Room Service, Food Court, and such) have tons of different numbers. Guess some people really splurged on their space vacation!\n",
    "\n",
    "8. `Names` are funky. We've got fewer unique names than passengers. Must be some space Smiths and Johnsons out there!\n",
    "\n",
    "9. And finally, our million-dollar question: `Transported`. It's a simple yes or no, but predicting it? That's our space-age challenge!\n",
    "\n",
    "So, what do you think? Ready to dive deeper into this cosmic dataset?"
   ]
  },
  {
   "cell_type": "code",
   "execution_count": 15,
   "metadata": {},
   "outputs": [
    {
     "data": {
      "text/plain": [
       "PassengerId       0\n",
       "HomePlanet      201\n",
       "CryoSleep       217\n",
       "Cabin           199\n",
       "Destination     182\n",
       "Age             179\n",
       "VIP             203\n",
       "RoomService     181\n",
       "FoodCourt       183\n",
       "ShoppingMall    208\n",
       "Spa             183\n",
       "VRDeck          188\n",
       "Name            200\n",
       "Transported       0\n",
       "dtype: int64"
      ]
     },
     "execution_count": 15,
     "metadata": {},
     "output_type": "execute_result"
    }
   ],
   "source": [
    "train_df.isnull().sum()"
   ]
  },
  {
   "cell_type": "markdown",
   "metadata": {},
   "source": [
    "Alright, let's break down what we're seeing in our cosmic data:\n",
    "\n",
    "1. Good news! Every passenger's got their `PassengerId`, and we know whether they were `Transported` or not. No mystery there - it's like everyone remembered their space ticket and we know who made it to the other side.\n",
    "\n",
    "2. Now, for the tricky part. All our other columns are playing a bit of hide-and-seek. Some info's gone missing:\n",
    "  - `Age` is the least secretive - only 179 space travelers forgot to tell us how old they are.\n",
    "  - `CryoSleep` is the most tight-lipped - 217 folks didn't let us know if they took the big freeze or not.\n",
    "\n",
    "3. So, what're we gonna do about these gaps? We've got a couple of options:\n",
    "  - For our number stuff, we might need to play psychic and guess the missing values. It's like filling in the blanks in a cosmic crossword puzzle.\n",
    "  - For our category stuff (like where they're from or where they're going), we might just shrug and say \"Unknown\". After all, some space travelers like to keep an air of mystery!\n",
    "\n",
    "It's not perfect, but hey, when you're dealing with space data, you gotta expect a few black holes here and there, right? What do you think - ready to start plugging these data leaks?"
   ]
  },
  {
   "cell_type": "code",
   "execution_count": 16,
   "metadata": {},
   "outputs": [
    {
     "data": {
      "text/plain": [
       "['Age', 'RoomService', 'FoodCourt', 'ShoppingMall', 'Spa', 'VRDeck']"
      ]
     },
     "execution_count": 16,
     "metadata": {},
     "output_type": "execute_result"
    }
   ],
   "source": [
    "num_col = [col for col, dtype in train_df.dtypes.items() if dtype=='float64']\n",
    "num_col"
   ]
  },
  {
   "cell_type": "code",
   "execution_count": 17,
   "metadata": {},
   "outputs": [
    {
     "data": {
      "text/plain": [
       "['PassengerId',\n",
       " 'HomePlanet',\n",
       " 'CryoSleep',\n",
       " 'Cabin',\n",
       " 'Destination',\n",
       " 'VIP',\n",
       " 'Name']"
      ]
     },
     "execution_count": 17,
     "metadata": {},
     "output_type": "execute_result"
    }
   ],
   "source": [
    "obj_col = [col for col, dtype in train_df.dtypes.items() if dtype=='object']\n",
    "obj_col"
   ]
  },
  {
   "cell_type": "markdown",
   "metadata": {},
   "source": [
    "Okay, so we've just done a bit of data sorting. It's like we've taken all our space passengers' info and split it into two piles:\n",
    "\n",
    "1. Numbers: Stuff we can do math with, like ages and how much people spent on room service.\n",
    "2. Categories: Things that are more like labels or groups, like where folks are from or if they're VIP.\n",
    "\n",
    "This split is very important.\n",
    "\n",
    "Now, here's where it gets a bit complicated. Some of our category stuff is actually just True/False questions. `CryoSleep` and `VIP` are like that - you're either in cryo or you're not, you're either a VIP or you're not. No middle ground in space!\n",
    "\n",
    "Then we've got things like `HomePlanet` and `Destination`. These are more like multiple choice questions - there's a few options, but not a whole bunch.\n",
    "\n",
    "Oh, and `PassengerId` and `Name`? They're like name tags. Useful for keeping track of who's who, but probably not something we'll use to predict who gets teleported. I mean, your name shouldn't determine your fate in space travel, right?\n",
    "\n",
    "So, now that we've got our data all sorted out, what do you think our next move should be in this cosmic data adventure?"
   ]
  },
  {
   "cell_type": "code",
   "execution_count": 18,
   "metadata": {},
   "outputs": [],
   "source": [
    "def remove_columns_from_dataframe(data_frame: pd.DataFrame, col_list: list) -> pd.DataFrame:\n",
    "    \"\"\"Function to remove columns from a dataframe\n",
    "\n",
    "    Args:\n",
    "        data_frame ([pd.DataFrame]): The dataframe from which selective columns need to be deleted\n",
    "        col_list ([list]): The list of column names to be deleted\n",
    "\n",
    "    Returns:\n",
    "        pd.DataFrame: The dataframe modified by deleted columns\n",
    "    \"\"\"\n",
    "    data_frame = data_frame.drop(col_list, axis=1)\n",
    "    return data_frame\n",
    "        "
   ]
  },
  {
   "cell_type": "code",
   "execution_count": 19,
   "metadata": {},
   "outputs": [],
   "source": [
    "train_df = remove_columns_from_dataframe(train_df, ['PassengerId', 'Name'])"
   ]
  },
  {
   "cell_type": "code",
   "execution_count": 20,
   "metadata": {},
   "outputs": [
    {
     "data": {
      "text/plain": [
       "Index(['HomePlanet', 'CryoSleep', 'Cabin', 'Destination', 'Age', 'VIP',\n",
       "       'RoomService', 'FoodCourt', 'ShoppingMall', 'Spa', 'VRDeck',\n",
       "       'Transported'],\n",
       "      dtype='object')"
      ]
     },
     "execution_count": 20,
     "metadata": {},
     "output_type": "execute_result"
    }
   ],
   "source": [
    "train_df.columns"
   ]
  },
  {
   "cell_type": "markdown",
   "metadata": {},
   "source": [
    "Alright, now that we've sorted our space data, let's talk game plan:\n",
    "\n",
    "1. For our number stuff, we're thinking about giving it a bit of a makeover. It's like making sure all our passengers are using the same units - we don't want some distances in light-years and others in parsecs, right? We might use fancy tools like `StandardScaler` or `MinMaxScaler`. It's like putting all our numerical data on a level playing field.\n",
    "\n",
    "2. Now, for our category stuff, we've got to turn it into something our space computers can understand. It's like translating alien languages:\n",
    "  - For our yes/no questions (like `CryoSleep` and `VIP`), we'll just use 0 and 1. Simple as flipping a cosmic coin.\n",
    "  - For our multiple choice questions (like where folks are from), we might use something called one-hot encoding. It's like giving each option its own yes/no column. Sounds complicated, but trust me, the computers love it!\n",
    "\n",
    "Next up, we're gonna take a peek at how our numbers are spread out. We're using something called KDE plots - think of it like taking a space telescope and looking at the shape of our data galaxies. It'll give us a good idea of what's normal and what's a bit... alien in our dataset.\n",
    "\n",
    "So, ready to start transforming our raw space data into something our prediction models can sink their teeth into?"
   ]
  },
  {
   "cell_type": "code",
   "execution_count": 21,
   "metadata": {},
   "outputs": [
    {
     "name": "stdout",
     "output_type": "stream",
     "text": [
      "min:0.0 | max: 79.0 | skew: 0.41909658301471536 | mean: 28.82793046746535\n"
     ]
    },
    {
     "data": {
      "image/png": "[encoded data removed]",
      "text/plain": [
       "<Figure size 800x400 with 1 Axes>"
      ]
     },
     "metadata": {},
     "output_type": "display_data"
    },
    {
     "name": "stdout",
     "output_type": "stream",
     "text": [
      "min:0.0 | max: 14327.0 | skew: 6.333014062092135 | mean: 224.687617481203\n"
     ]
    },
    {
     "data": {
      "image/png": "[encoded data removed]",
      "text/plain": [
       "<Figure size 800x400 with 1 Axes>"
      ]
     },
     "metadata": {},
     "output_type": "display_data"
    },
    {
     "name": "stdout",
     "output_type": "stream",
     "text": [
      "min:0.0 | max: 29813.0 | skew: 7.102227852514122 | mean: 458.07720329024676\n"
     ]
    },
    {
     "data": {
      "image/png": "[encoded data removed]",
      "text/plain": [
       "<Figure size 800x400 with 1 Axes>"
      ]
     },
     "metadata": {},
     "output_type": "display_data"
    },
    {
     "name": "stdout",
     "output_type": "stream",
     "text": [
      "min:0.0 | max: 23492.0 | skew: 12.62756203889759 | mean: 173.72916912197996\n"
     ]
    },
    {
     "data": {
      "image/png": "[encoded data removed]",
      "text/plain": [
       "<Figure size 800x400 with 1 Axes>"
      ]
     },
     "metadata": {},
     "output_type": "display_data"
    },
    {
     "name": "stdout",
     "output_type": "stream",
     "text": [
      "min:0.0 | max: 22408.0 | skew: 7.63601988471242 | mean: 311.1387779083431\n"
     ]
    },
    {
     "data": {
      "image/png": "[encoded data removed]",
      "text/plain": [
       "<Figure size 800x400 with 1 Axes>"
      ]
     },
     "metadata": {},
     "output_type": "display_data"
    },
    {
     "name": "stdout",
     "output_type": "stream",
     "text": [
      "min:0.0 | max: 24133.0 | skew: 7.819731592048683 | mean: 304.8547912992357\n"
     ]
    },
    {
     "data": {
      "image/png": "[encoded data removed]",
      "text/plain": [
       "<Figure size 800x400 with 1 Axes>"
      ]
     },
     "metadata": {},
     "output_type": "display_data"
    }
   ],
   "source": [
    "# Checkinge distributions of the numeric columns.\n",
    "for col in num_col:\n",
    "    column = train_df[col]\n",
    "    min_val = column.min()\n",
    "    max_val = column.max()\n",
    "    skew = column.skew()\n",
    "    mean = column.mean()\n",
    "    \n",
    "    plt.figure(figsize=(8, 4))\n",
    "    plt.title(col)\n",
    "    plt.ylabel('Count')\n",
    "    \n",
    "    print(f\"min:{min_val} | max: {max_val} | skew: {skew} | mean: {mean}\")\n",
    "    \n",
    "    train_df[col].plot(kind='kde')\n",
    "\n",
    "    plt.show()"
   ]
  },
  {
   "cell_type": "markdown",
   "metadata": {},
   "source": [
    "Alright, folks, let's break down what we're seeing in our passenger data:\n",
    "\n",
    "1. `Age`: \n",
    "  Looks like we've got a pretty normal spread of ages, but with a bit of a tail on the older end. Average age is about 29, with our youngest at 0 (space babies!) and our oldest at 79. We've got a few more older folks than you might expect, pulling our average up a bit.\n",
    "\n",
    "2. `RoomService`: \n",
    "  Whoa, talk about a party crowd! Most folks barely touched room service, but a few really went to town. Our average is about 225, but that's definitely getting pulled up by some big spenders.\n",
    "\n",
    "3. `FoodCourt`: \n",
    "  Same story here. Most people were pretty chill about the food court, but some folks must've been living there! Average spend is 458, but I bet if you picked a random passenger, they spent way less.\n",
    "\n",
    "4. `ShoppingMall`: \n",
    "  Even more extreme! Looks like we had a few shopaholics on board. Most people window-shopped, but a few went on a spree. Average spend is about 174.\n",
    "\n",
    "5. `Spa`: \n",
    "  Some serious pampering going on for a few passengers! Average spa spend is about 311, but again, that's thanks to some serious spa enthusiasts.\n",
    "\n",
    "6. `VRDeck`: \n",
    "  Virtual reality was a hit with some folks! Average usage is about 305, but most people probably just tried it once or twice.\n",
    "\n",
    "So, what's this tell us about our space travelers?\n",
    "\n",
    "1. For all our fancy amenities, most folks were pretty frugal. But a few big spenders really skewed things.\n",
    "2. We might want to look at these numbers on a log scale - could make our patterns easier to spot.\n",
    "3. Those big spenders might throw off our predictions. We might want to cap the spending at some point - like saying anything over the 99th percentile is just \"a whole lot\".\n",
    "4. Age is the only thing that looks kind of normal - which is what you'd expect for, well, normal people.\n",
    "\n",
    "Let's dig deeper into our space passenger profiles?"
   ]
  },
  {
   "cell_type": "code",
   "execution_count": 22,
   "metadata": {},
   "outputs": [],
   "source": [
    "def discretize_age(data_frame: pd.DataFrame)->pd.DataFrame:\n",
    "    \"\"\"Discretize Age column into fixed sized bins\n",
    "\n",
    "    Args:\n",
    "        data_frame (pd.DataFrame): The data frame to be altered\n",
    "\n",
    "    Returns:\n",
    "        pd.DataFrame: The modified data frame with new column Age_group\n",
    "    \"\"\"\n",
    "    # Define the bins for the age groups\n",
    "    age_bins = [-1, 18, 30, 45, 60, 100]\n",
    "\n",
    "    # Define the labels for the age groups\n",
    "    age_labels = ['Child', 'Teen', 'Adult', 'Senior', 'Old']\n",
    "\n",
    "    # Discretize the age column using the pd.cut() function\n",
    "    data_frame['Age_group'] = pd.cut(data_frame['Age'], bins=age_bins, labels=age_labels)\n",
    "\n",
    "    # Remove the Age column from the dataframe\n",
    "    del data_frame['Age']\n",
    "\n",
    "    return data_frame\n"
   ]
  },
  {
   "cell_type": "code",
   "execution_count": 23,
   "metadata": {},
   "outputs": [
    {
     "data": {
      "text/html": [
       "<div>\n",
       "<style scoped>\n",
       "    .dataframe tbody tr th:only-of-type {\n",
       "        vertical-align: middle;\n",
       "    }\n",
       "\n",
       "    .dataframe tbody tr th {\n",
       "        vertical-align: top;\n",
       "    }\n",
       "\n",
       "    .dataframe thead th {\n",
       "        text-align: right;\n",
       "    }\n",
       "</style>\n",
       "<table border=\"1\" class=\"dataframe\">\n",
       "  <thead>\n",
       "    <tr style=\"text-align: right;\">\n",
       "      <th></th>\n",
       "      <th>HomePlanet</th>\n",
       "      <th>CryoSleep</th>\n",
       "      <th>Cabin</th>\n",
       "      <th>Destination</th>\n",
       "      <th>VIP</th>\n",
       "      <th>RoomService</th>\n",
       "      <th>FoodCourt</th>\n",
       "      <th>ShoppingMall</th>\n",
       "      <th>Spa</th>\n",
       "      <th>VRDeck</th>\n",
       "      <th>Transported</th>\n",
       "      <th>Age_group</th>\n",
       "    </tr>\n",
       "  </thead>\n",
       "  <tbody>\n",
       "    <tr>\n",
       "      <th>0</th>\n",
       "      <td>Europa</td>\n",
       "      <td>False</td>\n",
       "      <td>B/0/P</td>\n",
       "      <td>TRAPPIST-1e</td>\n",
       "      <td>False</td>\n",
       "      <td>0.0</td>\n",
       "      <td>0.0</td>\n",
       "      <td>0.0</td>\n",
       "      <td>0.0</td>\n",
       "      <td>0.0</td>\n",
       "      <td>False</td>\n",
       "      <td>Adult</td>\n",
       "    </tr>\n",
       "    <tr>\n",
       "      <th>1</th>\n",
       "      <td>Earth</td>\n",
       "      <td>False</td>\n",
       "      <td>F/0/S</td>\n",
       "      <td>TRAPPIST-1e</td>\n",
       "      <td>False</td>\n",
       "      <td>109.0</td>\n",
       "      <td>9.0</td>\n",
       "      <td>25.0</td>\n",
       "      <td>549.0</td>\n",
       "      <td>44.0</td>\n",
       "      <td>True</td>\n",
       "      <td>Teen</td>\n",
       "    </tr>\n",
       "    <tr>\n",
       "      <th>2</th>\n",
       "      <td>Europa</td>\n",
       "      <td>False</td>\n",
       "      <td>A/0/S</td>\n",
       "      <td>TRAPPIST-1e</td>\n",
       "      <td>True</td>\n",
       "      <td>43.0</td>\n",
       "      <td>3576.0</td>\n",
       "      <td>0.0</td>\n",
       "      <td>6715.0</td>\n",
       "      <td>49.0</td>\n",
       "      <td>False</td>\n",
       "      <td>Senior</td>\n",
       "    </tr>\n",
       "    <tr>\n",
       "      <th>3</th>\n",
       "      <td>Europa</td>\n",
       "      <td>False</td>\n",
       "      <td>A/0/S</td>\n",
       "      <td>TRAPPIST-1e</td>\n",
       "      <td>False</td>\n",
       "      <td>0.0</td>\n",
       "      <td>1283.0</td>\n",
       "      <td>371.0</td>\n",
       "      <td>3329.0</td>\n",
       "      <td>193.0</td>\n",
       "      <td>False</td>\n",
       "      <td>Adult</td>\n",
       "    </tr>\n",
       "    <tr>\n",
       "      <th>4</th>\n",
       "      <td>Earth</td>\n",
       "      <td>False</td>\n",
       "      <td>F/1/S</td>\n",
       "      <td>TRAPPIST-1e</td>\n",
       "      <td>False</td>\n",
       "      <td>303.0</td>\n",
       "      <td>70.0</td>\n",
       "      <td>151.0</td>\n",
       "      <td>565.0</td>\n",
       "      <td>2.0</td>\n",
       "      <td>True</td>\n",
       "      <td>Child</td>\n",
       "    </tr>\n",
       "    <tr>\n",
       "      <th>...</th>\n",
       "      <td>...</td>\n",
       "      <td>...</td>\n",
       "      <td>...</td>\n",
       "      <td>...</td>\n",
       "      <td>...</td>\n",
       "      <td>...</td>\n",
       "      <td>...</td>\n",
       "      <td>...</td>\n",
       "      <td>...</td>\n",
       "      <td>...</td>\n",
       "      <td>...</td>\n",
       "      <td>...</td>\n",
       "    </tr>\n",
       "    <tr>\n",
       "      <th>8688</th>\n",
       "      <td>Europa</td>\n",
       "      <td>False</td>\n",
       "      <td>A/98/P</td>\n",
       "      <td>55 Cancri e</td>\n",
       "      <td>True</td>\n",
       "      <td>0.0</td>\n",
       "      <td>6819.0</td>\n",
       "      <td>0.0</td>\n",
       "      <td>1643.0</td>\n",
       "      <td>74.0</td>\n",
       "      <td>False</td>\n",
       "      <td>Adult</td>\n",
       "    </tr>\n",
       "    <tr>\n",
       "      <th>8689</th>\n",
       "      <td>Earth</td>\n",
       "      <td>True</td>\n",
       "      <td>G/1499/S</td>\n",
       "      <td>PSO J318.5-22</td>\n",
       "      <td>False</td>\n",
       "      <td>0.0</td>\n",
       "      <td>0.0</td>\n",
       "      <td>0.0</td>\n",
       "      <td>0.0</td>\n",
       "      <td>0.0</td>\n",
       "      <td>False</td>\n",
       "      <td>Child</td>\n",
       "    </tr>\n",
       "    <tr>\n",
       "      <th>8690</th>\n",
       "      <td>Earth</td>\n",
       "      <td>False</td>\n",
       "      <td>G/1500/S</td>\n",
       "      <td>TRAPPIST-1e</td>\n",
       "      <td>False</td>\n",
       "      <td>0.0</td>\n",
       "      <td>0.0</td>\n",
       "      <td>1872.0</td>\n",
       "      <td>1.0</td>\n",
       "      <td>0.0</td>\n",
       "      <td>True</td>\n",
       "      <td>Teen</td>\n",
       "    </tr>\n",
       "    <tr>\n",
       "      <th>8691</th>\n",
       "      <td>Europa</td>\n",
       "      <td>False</td>\n",
       "      <td>E/608/S</td>\n",
       "      <td>55 Cancri e</td>\n",
       "      <td>False</td>\n",
       "      <td>0.0</td>\n",
       "      <td>1049.0</td>\n",
       "      <td>0.0</td>\n",
       "      <td>353.0</td>\n",
       "      <td>3235.0</td>\n",
       "      <td>False</td>\n",
       "      <td>Adult</td>\n",
       "    </tr>\n",
       "    <tr>\n",
       "      <th>8692</th>\n",
       "      <td>Europa</td>\n",
       "      <td>False</td>\n",
       "      <td>E/608/S</td>\n",
       "      <td>TRAPPIST-1e</td>\n",
       "      <td>False</td>\n",
       "      <td>126.0</td>\n",
       "      <td>4688.0</td>\n",
       "      <td>0.0</td>\n",
       "      <td>0.0</td>\n",
       "      <td>12.0</td>\n",
       "      <td>True</td>\n",
       "      <td>Adult</td>\n",
       "    </tr>\n",
       "  </tbody>\n",
       "</table>\n",
       "<p>8693 rows × 12 columns</p>\n",
       "</div>"
      ],
      "text/plain": [
       "     HomePlanet CryoSleep     Cabin    Destination    VIP  RoomService  \\\n",
       "0        Europa     False     B/0/P    TRAPPIST-1e  False          0.0   \n",
       "1         Earth     False     F/0/S    TRAPPIST-1e  False        109.0   \n",
       "2        Europa     False     A/0/S    TRAPPIST-1e   True         43.0   \n",
       "3        Europa     False     A/0/S    TRAPPIST-1e  False          0.0   \n",
       "4         Earth     False     F/1/S    TRAPPIST-1e  False        303.0   \n",
       "...         ...       ...       ...            ...    ...          ...   \n",
       "8688     Europa     False    A/98/P    55 Cancri e   True          0.0   \n",
       "8689      Earth      True  G/1499/S  PSO J318.5-22  False          0.0   \n",
       "8690      Earth     False  G/1500/S    TRAPPIST-1e  False          0.0   \n",
       "8691     Europa     False   E/608/S    55 Cancri e  False          0.0   \n",
       "8692     Europa     False   E/608/S    TRAPPIST-1e  False        126.0   \n",
       "\n",
       "      FoodCourt  ShoppingMall     Spa  VRDeck  Transported Age_group  \n",
       "0           0.0           0.0     0.0     0.0        False     Adult  \n",
       "1           9.0          25.0   549.0    44.0         True      Teen  \n",
       "2        3576.0           0.0  6715.0    49.0        False    Senior  \n",
       "3        1283.0         371.0  3329.0   193.0        False     Adult  \n",
       "4          70.0         151.0   565.0     2.0         True     Child  \n",
       "...         ...           ...     ...     ...          ...       ...  \n",
       "8688     6819.0           0.0  1643.0    74.0        False     Adult  \n",
       "8689        0.0           0.0     0.0     0.0        False     Child  \n",
       "8690        0.0        1872.0     1.0     0.0         True      Teen  \n",
       "8691     1049.0           0.0   353.0  3235.0        False     Adult  \n",
       "8692     4688.0           0.0     0.0    12.0         True     Adult  \n",
       "\n",
       "[8693 rows x 12 columns]"
      ]
     },
     "execution_count": 23,
     "metadata": {},
     "output_type": "execute_result"
    }
   ],
   "source": [
    "discretize_age(train_df)"
   ]
  },
  {
   "cell_type": "markdown",
   "metadata": {},
   "source": [
    "Okay now, we've just done some cosmic age grouping! Instead of dealing with exact ages, we've sorted our space travelers into different life stages. It's like we've created space high school, but with more categories!\n",
    "\n",
    "Here's what we've cooked up:\n",
    "- `Child`: Our little astronauts, from barely born to 18\n",
    "- `Teen`: Young adults, 18 to 30 (yeah, we're counting 20-somethings as teens in space!)\n",
    "- `Adult`: Our main crew, 30 to 45\n",
    "- `Senior`: The experienced travelers, 45 to 60\n",
    "- `Old`: Our space veterans, 60 and up\n",
    "\n",
    "Why'd we do this? Well, it's like sorting your space laundry:\n",
    "\n",
    "1. It helps us spot any weird age-related patterns. Like, maybe babies and grandpas are more likely to get zapped to another dimension. You never know in space!\n",
    "\n",
    "2. It saves us from sweating the small stuff. Is there really a big difference between a 40-year-old and a 41-year-old space traveler? Probably not, but there might be between a `Teen` and an `Adult`.\n",
    "\n",
    "3. It makes our space stats easier to understand. Instead of saying \"for every year older, you're 0.5% more likely to be teleported\", we can say \"Adults are 10% more likely to be teleported than Teens\". Much easier to wrap your head around, right?\n",
    "\n",
    "We've been a bit cheeky with our grouping. We started our `Child` group at -1 years old. No, we're not expecting time-traveling babies! It's just to catch any oopsies where someone might've entered 0 for a baby's age.\n",
    "\n",
    "Oh, and we've ditched the original `Age` column. No need for belt and suspenders in space - we've got our shiny new `Age_group` to work with now.\n",
    "\n",
    "So, ready to see how these cosmic age groups shake up our space transportation predictions?"
   ]
  },
  {
   "cell_type": "code",
   "execution_count": 24,
   "metadata": {},
   "outputs": [
    {
     "data": {
      "text/plain": [
       "['RoomService', 'FoodCourt', 'ShoppingMall', 'Spa', 'VRDeck']"
      ]
     },
     "execution_count": 24,
     "metadata": {},
     "output_type": "execute_result"
    }
   ],
   "source": [
    "num_col = [col for col, dtype in train_df.dtypes.items() if dtype=='float64']\n",
    "num_col"
   ]
  },
  {
   "cell_type": "code",
   "execution_count": 25,
   "metadata": {},
   "outputs": [
    {
     "data": {
      "text/plain": [
       "['HomePlanet', 'CryoSleep', 'Cabin', 'Destination', 'VIP']"
      ]
     },
     "execution_count": 25,
     "metadata": {},
     "output_type": "execute_result"
    }
   ],
   "source": [
    "obj_col = [col for col, dtype in train_df.dtypes.items() if dtype=='object']\n",
    "obj_col"
   ]
  },
  {
   "cell_type": "code",
   "execution_count": 26,
   "metadata": {},
   "outputs": [
    {
     "name": "stdout",
     "output_type": "stream",
     "text": [
      "<class 'pandas.core.frame.DataFrame'>\n",
      "RangeIndex: 8693 entries, 0 to 8692\n",
      "Data columns (total 12 columns):\n",
      " #   Column        Non-Null Count  Dtype   \n",
      "---  ------        --------------  -----   \n",
      " 0   HomePlanet    8492 non-null   object  \n",
      " 1   CryoSleep     8476 non-null   object  \n",
      " 2   Cabin         8494 non-null   object  \n",
      " 3   Destination   8511 non-null   object  \n",
      " 4   VIP           8490 non-null   object  \n",
      " 5   RoomService   8512 non-null   float64 \n",
      " 6   FoodCourt     8510 non-null   float64 \n",
      " 7   ShoppingMall  8485 non-null   float64 \n",
      " 8   Spa           8510 non-null   float64 \n",
      " 9   VRDeck        8505 non-null   float64 \n",
      " 10  Transported   8693 non-null   bool    \n",
      " 11  Age_group     8514 non-null   category\n",
      "dtypes: bool(1), category(1), float64(5), object(5)\n",
      "memory usage: 696.5+ KB\n"
     ]
    }
   ],
   "source": [
    "train_df.info()"
   ]
  },
  {
   "cell_type": "markdown",
   "metadata": {},
   "source": [
    "The key change here is that `Age` is no longer in our list of numerical columns. Instead, `Age_group` has been added to our categorical columns. This reflects the transformation we just performed."
   ]
  },
  {
   "cell_type": "code",
   "execution_count": 27,
   "metadata": {},
   "outputs": [],
   "source": [
    "def remove_anomalies(df:pd.DataFrame, column_names:list, multiplier=1.5)->pd.DataFrame:\n",
    "    \"\"\"Remove outliers from a data frame for selective columns\n",
    "\n",
    "    Args:\n",
    "        df (pd.DataFrame): The data frame to be altered\n",
    "        column_names (list): list of column names to be operated on\n",
    "\n",
    "    Returns:\n",
    "        pd.DataFrame: The modified data frame after removing the outliers\n",
    "    \"\"\"\n",
    "    for col in column_names:\n",
    "        null_df = df[df[col].isna()]\n",
    "        \n",
    "        Q1 = df[col].quantile(0.01)\n",
    "        Q3 = df[col].quantile(0.99)\n",
    "\n",
    "        IQR = Q3 - Q1\n",
    "\n",
    "        lower_bound = Q1 - (multiplier * IQR)\n",
    "        upper_bound = Q3 + (multiplier * IQR)\n",
    "\n",
    "        df = df[(df[col] >= lower_bound) & (df[col] <= upper_bound)]\n",
    "        df = pd.concat([df, null_df])\n",
    "        \n",
    "    return df\n"
   ]
  },
  {
   "cell_type": "code",
   "execution_count": 28,
   "metadata": {},
   "outputs": [],
   "source": [
    "train_df = remove_anomalies(train_df,num_col)"
   ]
  },
  {
   "cell_type": "code",
   "execution_count": 29,
   "metadata": {},
   "outputs": [
    {
     "data": {
      "text/plain": [
       "(8649, 12)"
      ]
     },
     "execution_count": 29,
     "metadata": {},
     "output_type": "execute_result"
    }
   ],
   "source": [
    "train_df.shape"
   ]
  },
  {
   "cell_type": "markdown",
   "metadata": {},
   "source": [
    "Following that, we perform an important data cleaning step: removing outliers from our numerical columns. The method used here is the Interquartile Range (IQR) method, which is a robust way of detecting outliers.\n",
    "\n",
    "The function `remove_anomalies` does the following for each numerical column:\n",
    "1. Calculates the 1st percentile (Q1) and 99th percentile (Q3)\n",
    "2. Computes the Interquartile Range (IQR) as Q3 - Q1\n",
    "3. Defines outliers as any points below Q1 - 1.5*IQR or above Q3 + 1.5*IQR\n",
    "4. Removes these outliers from the dataset\n",
    "\n",
    "From the output, we can see that our DataFrame shape has changed:\n",
    "\n",
    "```\n",
    "(8649, 12)\n",
    "```\n",
    "\n",
    "Previously, we had 8693 rows, and now we have 8649. This means we've removed 44 rows that contained outliers in one or more of the numerical columns.\n",
    "\n",
    "This outlier removal serves several purposes:\n",
    "1. It can improve the performance of many machine learning algorithms, which can be sensitive to extreme values.\n",
    "2. It helps ensure that our model isn't unduly influenced by a small number of extreme cases.\n",
    "3. It can sometimes correct for data entry errors or other anomalies in the data collection process.\n",
    "\n",
    "However, it's important to note that we're making an assumption here that these extreme values are indeed outliers and not just rare but valid data points. In a real-world scenario, we might want to investigate these outliers further to understand why they're so extreme before removing them.\n",
    "\n",
    "Also, notice that we're keeping the rows with null values (`null_df = df[df[col].isna()]`) and adding them back to our dataset after outlier removal. This ensures we don't lose data unnecessarily, as null values will be handled in a separate step."
   ]
  },
  {
   "cell_type": "code",
   "execution_count": 30,
   "metadata": {},
   "outputs": [],
   "source": [
    "def normalize(data_frame:pd.DataFrame, col_names:list)->pd.DataFrame:\n",
    "    \"\"\"Normalize selective columns of a data frame\n",
    "\n",
    "    Args:\n",
    "        data_frame (pd.DataFrame): The data frame to be altered\n",
    "        column_names (list): list of column names to be normalized\n",
    "\n",
    "    Returns:\n",
    "        pd.DataFrame: The modified data frame with normalized columns\n",
    "    \"\"\"\n",
    "    normalizer = StandardScaler()\n",
    "    data_frame[col_names] = normalizer.fit_transform(data_frame[col_names])\n",
    "\n",
    "    return data_frame"
   ]
  },
  {
   "cell_type": "code",
   "execution_count": 31,
   "metadata": {},
   "outputs": [],
   "source": [
    "train_df = normalize(train_df, num_col)"
   ]
  },
  {
   "cell_type": "code",
   "execution_count": 32,
   "metadata": {},
   "outputs": [
    {
     "data": {
      "text/html": [
       "<div>\n",
       "<style scoped>\n",
       "    .dataframe tbody tr th:only-of-type {\n",
       "        vertical-align: middle;\n",
       "    }\n",
       "\n",
       "    .dataframe tbody tr th {\n",
       "        vertical-align: top;\n",
       "    }\n",
       "\n",
       "    .dataframe thead th {\n",
       "        text-align: right;\n",
       "    }\n",
       "</style>\n",
       "<table border=\"1\" class=\"dataframe\">\n",
       "  <thead>\n",
       "    <tr style=\"text-align: right;\">\n",
       "      <th></th>\n",
       "      <th>HomePlanet</th>\n",
       "      <th>CryoSleep</th>\n",
       "      <th>Cabin</th>\n",
       "      <th>Destination</th>\n",
       "      <th>VIP</th>\n",
       "      <th>RoomService</th>\n",
       "      <th>FoodCourt</th>\n",
       "      <th>ShoppingMall</th>\n",
       "      <th>Spa</th>\n",
       "      <th>VRDeck</th>\n",
       "      <th>Transported</th>\n",
       "      <th>Age_group</th>\n",
       "    </tr>\n",
       "  </thead>\n",
       "  <tbody>\n",
       "    <tr>\n",
       "      <th>0</th>\n",
       "      <td>Europa</td>\n",
       "      <td>False</td>\n",
       "      <td>B/0/P</td>\n",
       "      <td>TRAPPIST-1e</td>\n",
       "      <td>False</td>\n",
       "      <td>-0.359961</td>\n",
       "      <td>-0.297860</td>\n",
       "      <td>-0.352491</td>\n",
       "      <td>-0.293324</td>\n",
       "      <td>-0.280320</td>\n",
       "      <td>False</td>\n",
       "      <td>Adult</td>\n",
       "    </tr>\n",
       "    <tr>\n",
       "      <th>1</th>\n",
       "      <td>Earth</td>\n",
       "      <td>False</td>\n",
       "      <td>F/0/S</td>\n",
       "      <td>TRAPPIST-1e</td>\n",
       "      <td>False</td>\n",
       "      <td>-0.177836</td>\n",
       "      <td>-0.291700</td>\n",
       "      <td>-0.297105</td>\n",
       "      <td>0.264363</td>\n",
       "      <td>-0.237639</td>\n",
       "      <td>True</td>\n",
       "      <td>Teen</td>\n",
       "    </tr>\n",
       "    <tr>\n",
       "      <th>2</th>\n",
       "      <td>Europa</td>\n",
       "      <td>False</td>\n",
       "      <td>A/0/S</td>\n",
       "      <td>TRAPPIST-1e</td>\n",
       "      <td>True</td>\n",
       "      <td>-0.288114</td>\n",
       "      <td>2.150043</td>\n",
       "      <td>-0.352491</td>\n",
       "      <td>6.527927</td>\n",
       "      <td>-0.232789</td>\n",
       "      <td>False</td>\n",
       "      <td>Senior</td>\n",
       "    </tr>\n",
       "    <tr>\n",
       "      <th>3</th>\n",
       "      <td>Europa</td>\n",
       "      <td>False</td>\n",
       "      <td>A/0/S</td>\n",
       "      <td>TRAPPIST-1e</td>\n",
       "      <td>False</td>\n",
       "      <td>-0.359961</td>\n",
       "      <td>0.580400</td>\n",
       "      <td>0.469440</td>\n",
       "      <td>3.088351</td>\n",
       "      <td>-0.093104</td>\n",
       "      <td>False</td>\n",
       "      <td>Adult</td>\n",
       "    </tr>\n",
       "    <tr>\n",
       "      <th>4</th>\n",
       "      <td>Earth</td>\n",
       "      <td>False</td>\n",
       "      <td>F/1/S</td>\n",
       "      <td>TRAPPIST-1e</td>\n",
       "      <td>False</td>\n",
       "      <td>0.146315</td>\n",
       "      <td>-0.249943</td>\n",
       "      <td>-0.017958</td>\n",
       "      <td>0.280616</td>\n",
       "      <td>-0.278380</td>\n",
       "      <td>True</td>\n",
       "      <td>Child</td>\n",
       "    </tr>\n",
       "    <tr>\n",
       "      <th>...</th>\n",
       "      <td>...</td>\n",
       "      <td>...</td>\n",
       "      <td>...</td>\n",
       "      <td>...</td>\n",
       "      <td>...</td>\n",
       "      <td>...</td>\n",
       "      <td>...</td>\n",
       "      <td>...</td>\n",
       "      <td>...</td>\n",
       "      <td>...</td>\n",
       "      <td>...</td>\n",
       "      <td>...</td>\n",
       "    </tr>\n",
       "    <tr>\n",
       "      <th>6431</th>\n",
       "      <td>Earth</td>\n",
       "      <td>True</td>\n",
       "      <td>F/1411/P</td>\n",
       "      <td>TRAPPIST-1e</td>\n",
       "      <td>False</td>\n",
       "      <td>-0.359961</td>\n",
       "      <td>-0.297860</td>\n",
       "      <td>NaN</td>\n",
       "      <td>-0.293324</td>\n",
       "      <td>NaN</td>\n",
       "      <td>True</td>\n",
       "      <td>Child</td>\n",
       "    </tr>\n",
       "    <tr>\n",
       "      <th>8286</th>\n",
       "      <td>Earth</td>\n",
       "      <td>True</td>\n",
       "      <td>G/1427/S</td>\n",
       "      <td>55 Cancri e</td>\n",
       "      <td>False</td>\n",
       "      <td>-0.359961</td>\n",
       "      <td>-0.297860</td>\n",
       "      <td>NaN</td>\n",
       "      <td>-0.293324</td>\n",
       "      <td>NaN</td>\n",
       "      <td>True</td>\n",
       "      <td>Teen</td>\n",
       "    </tr>\n",
       "    <tr>\n",
       "      <th>4273</th>\n",
       "      <td>Earth</td>\n",
       "      <td>False</td>\n",
       "      <td>F/853/S</td>\n",
       "      <td>TRAPPIST-1e</td>\n",
       "      <td>False</td>\n",
       "      <td>-0.359961</td>\n",
       "      <td>-0.174644</td>\n",
       "      <td>0.790679</td>\n",
       "      <td>NaN</td>\n",
       "      <td>NaN</td>\n",
       "      <td>True</td>\n",
       "      <td>Teen</td>\n",
       "    </tr>\n",
       "    <tr>\n",
       "      <th>4986</th>\n",
       "      <td>Mars</td>\n",
       "      <td>True</td>\n",
       "      <td>F/1090/P</td>\n",
       "      <td>TRAPPIST-1e</td>\n",
       "      <td>False</td>\n",
       "      <td>-0.359961</td>\n",
       "      <td>-0.297860</td>\n",
       "      <td>-0.352491</td>\n",
       "      <td>NaN</td>\n",
       "      <td>NaN</td>\n",
       "      <td>True</td>\n",
       "      <td>Teen</td>\n",
       "    </tr>\n",
       "    <tr>\n",
       "      <th>6920</th>\n",
       "      <td>Mars</td>\n",
       "      <td>False</td>\n",
       "      <td>D/233/P</td>\n",
       "      <td>TRAPPIST-1e</td>\n",
       "      <td>False</td>\n",
       "      <td>1.842257</td>\n",
       "      <td>-0.297860</td>\n",
       "      <td>2.718117</td>\n",
       "      <td>NaN</td>\n",
       "      <td>NaN</td>\n",
       "      <td>False</td>\n",
       "      <td>Adult</td>\n",
       "    </tr>\n",
       "  </tbody>\n",
       "</table>\n",
       "<p>8649 rows × 12 columns</p>\n",
       "</div>"
      ],
      "text/plain": [
       "     HomePlanet CryoSleep     Cabin  Destination    VIP  RoomService  \\\n",
       "0        Europa     False     B/0/P  TRAPPIST-1e  False    -0.359961   \n",
       "1         Earth     False     F/0/S  TRAPPIST-1e  False    -0.177836   \n",
       "2        Europa     False     A/0/S  TRAPPIST-1e   True    -0.288114   \n",
       "3        Europa     False     A/0/S  TRAPPIST-1e  False    -0.359961   \n",
       "4         Earth     False     F/1/S  TRAPPIST-1e  False     0.146315   \n",
       "...         ...       ...       ...          ...    ...          ...   \n",
       "6431      Earth      True  F/1411/P  TRAPPIST-1e  False    -0.359961   \n",
       "8286      Earth      True  G/1427/S  55 Cancri e  False    -0.359961   \n",
       "4273      Earth     False   F/853/S  TRAPPIST-1e  False    -0.359961   \n",
       "4986       Mars      True  F/1090/P  TRAPPIST-1e  False    -0.359961   \n",
       "6920       Mars     False   D/233/P  TRAPPIST-1e  False     1.842257   \n",
       "\n",
       "      FoodCourt  ShoppingMall       Spa    VRDeck  Transported Age_group  \n",
       "0     -0.297860     -0.352491 -0.293324 -0.280320        False     Adult  \n",
       "1     -0.291700     -0.297105  0.264363 -0.237639         True      Teen  \n",
       "2      2.150043     -0.352491  6.527927 -0.232789        False    Senior  \n",
       "3      0.580400      0.469440  3.088351 -0.093104        False     Adult  \n",
       "4     -0.249943     -0.017958  0.280616 -0.278380         True     Child  \n",
       "...         ...           ...       ...       ...          ...       ...  \n",
       "6431  -0.297860           NaN -0.293324       NaN         True     Child  \n",
       "8286  -0.297860           NaN -0.293324       NaN         True      Teen  \n",
       "4273  -0.174644      0.790679       NaN       NaN         True      Teen  \n",
       "4986  -0.297860     -0.352491       NaN       NaN         True      Teen  \n",
       "6920  -0.297860      2.718117       NaN       NaN        False     Adult  \n",
       "\n",
       "[8649 rows x 12 columns]"
      ]
     },
     "execution_count": 32,
     "metadata": {},
     "output_type": "execute_result"
    }
   ],
   "source": [
    "train_df"
   ]
  },
  {
   "cell_type": "markdown",
   "metadata": {},
   "source": [
    "Here, we proceed with normalization where they now represent how many standard deviations away from the mean a particular value is. For example, a value of 1 in the normalized `RoomService` column would indicate that this passenger spent 1 standard deviation more than the average on room service."
   ]
  },
  {
   "cell_type": "code",
   "execution_count": 33,
   "metadata": {},
   "outputs": [],
   "source": [
    "def null_replacement(data_frame:pd.DataFrame, col_names:list)->pd.DataFrame:\n",
    "    \"\"\"Replacing Null values from a data frame\n",
    "\n",
    "    Args:\n",
    "        data_frame (pd.DataFrame): The data frame to be altered\n",
    "        column_names (list): list of column names where null value to be replaced\n",
    "\n",
    "    Returns:\n",
    "        pd.DataFrame: The modified data frame with replaced null values\n",
    "    \"\"\"\n",
    "    for col in col_names:\n",
    "        # import pdb; pdb.set_trace()\n",
    "        col_values = data_frame[col]\n",
    "        col_values.fillna(col_values.median(), inplace=True)\n",
    "        \n",
    "    return data_frame"
   ]
  },
  {
   "cell_type": "code",
   "execution_count": 34,
   "metadata": {},
   "outputs": [],
   "source": [
    "train_df = null_replacement(train_df, num_col)"
   ]
  },
  {
   "cell_type": "code",
   "execution_count": 35,
   "metadata": {},
   "outputs": [
    {
     "data": {
      "text/plain": [
       "HomePlanet      200\n",
       "CryoSleep       216\n",
       "Cabin           197\n",
       "Destination     181\n",
       "VIP             202\n",
       "RoomService       0\n",
       "FoodCourt         0\n",
       "ShoppingMall      0\n",
       "Spa               0\n",
       "VRDeck            0\n",
       "Transported       0\n",
       "Age_group       179\n",
       "dtype: int64"
      ]
     },
     "execution_count": 35,
     "metadata": {},
     "output_type": "execute_result"
    }
   ],
   "source": [
    "train_df.isna().sum()"
   ]
  },
  {
   "cell_type": "markdown",
   "metadata": {},
   "source": [
    "Alright, now, we've just done some data cleaning! We're talking about getting rid of those weird, way-out-there numbers that might mess up our space predictions. It's like throwing out the moldy cheese from the back of the fridge - sure, it might be interesting, but it's probably not good for our space diet.\n",
    "\n",
    "Here's what we did with our number-crunching magic:\n",
    "\n",
    "1. We looked at each of our number columns (you know, stuff like how much folks spent at the space mall).\n",
    "2. We figured out what \"normal\" looks like for each column. It's like finding out what the average space traveler does.\n",
    "3. Then, we spotted the oddballs - the ones who spent way too much or way too little compared to everyone else.\n",
    "4. We gently showed these oddballs the airlock. Not literally, of course! We just removed them from our data.\n",
    "\n",
    "After our cleaning spree, we've gone from 8693 space travelers to 8649. That's 44 fewer rows in our cosmic spreadsheet. These 44 were our extreme cases - maybe they were secret space billionaires or stowaways!\n",
    "\n",
    "Why did we do this? Well, it's like calibrating our space instruments:\n",
    "1. It helps our prediction machines work better. They tend to get a bit confused by extreme values.\n",
    "2. We don't want a handful of space party animals skewing our whole prediction.\n",
    "3. Sometimes, these outliers are just mistakes. Like someone adding an extra zero when entering how much was spent on space smoothies.\n",
    "\n",
    "But here's the thing - we're making a bit of an assumption. We're saying these extreme values are mistakes or anomalies, not just rare but real data. In the real world (or real space world), we might want to double-check these outliers before we spaced them.\n",
    "\n",
    "Oh, and one more thing! We kept all the rows where we had missing info (those pesky nulls). We're not giving up on those - we'll deal with them later. It's like keeping the mysterious locked crates in our cargo hold. We don't know what's in them yet, but we're not tossing them out!\n",
    "\n",
    "So, what do you think? Ready to see how our cleaned-up, outlier-free data changes our space predictions?"
   ]
  },
  {
   "cell_type": "code",
   "execution_count": 36,
   "metadata": {},
   "outputs": [],
   "source": [
    "obj_col.append(\"Age_group\")"
   ]
  },
  {
   "cell_type": "code",
   "execution_count": 37,
   "metadata": {},
   "outputs": [
    {
     "data": {
      "text/plain": [
       "['HomePlanet', 'CryoSleep', 'Cabin', 'Destination', 'VIP', 'Age_group']"
      ]
     },
     "execution_count": 37,
     "metadata": {},
     "output_type": "execute_result"
    }
   ],
   "source": [
    "obj_col"
   ]
  },
  {
   "cell_type": "code",
   "execution_count": 38,
   "metadata": {},
   "outputs": [
    {
     "data": {
      "text/plain": [
       "HomePlanet        3\n",
       "CryoSleep         2\n",
       "Cabin          6540\n",
       "Destination       3\n",
       "VIP               2\n",
       "Age_group         5\n",
       "dtype: int64"
      ]
     },
     "execution_count": 38,
     "metadata": {},
     "output_type": "execute_result"
    }
   ],
   "source": [
    "train_df[obj_col].nunique()"
   ]
  },
  {
   "cell_type": "code",
   "execution_count": 39,
   "metadata": {},
   "outputs": [
    {
     "data": {
      "text/plain": [
       "0    False\n",
       "1    False\n",
       "2    False\n",
       "3    False\n",
       "4    False\n",
       "Name: CryoSleep, dtype: object"
      ]
     },
     "execution_count": 39,
     "metadata": {},
     "output_type": "execute_result"
    }
   ],
   "source": [
    "train_df[\"CryoSleep\"].head()"
   ]
  },
  {
   "cell_type": "code",
   "execution_count": 40,
   "metadata": {},
   "outputs": [
    {
     "data": {
      "text/plain": [
       "0    False\n",
       "1    False\n",
       "2     True\n",
       "3    False\n",
       "4    False\n",
       "Name: VIP, dtype: object"
      ]
     },
     "execution_count": 40,
     "metadata": {},
     "output_type": "execute_result"
    }
   ],
   "source": [
    "train_df[\"VIP\"].head()"
   ]
  },
  {
   "cell_type": "markdown",
   "metadata": {},
   "source": [
    "These informations are crucial for deciding how to encode these categorical variables:\n",
    "\n",
    "1. `HomePlanet` and Desti`nation both have 3 categories. These are good candidates for one-hot encoding.\n",
    "2. `CryoSleep` and `VIP` are binary (2 categories). These can be simply encoded as 0 and 1.\n",
    "3. `Cabin` has 6540 unique values. This high cardinality suggests that Cabin is a combination of multiple features (like deck, room number, and side). We might need to split this into separate features.\n",
    "4. `Age_group`, which we created earlier, has 5 categories. This could be one-hot encoded or potentially treated as an ordinal variable.\n",
    "\n",
    "We also inspect the first few values of `CryoSleep` and `VIP`. They will need to be converted to numerical values for our machine learning models."
   ]
  },
  {
   "cell_type": "code",
   "execution_count": 41,
   "metadata": {},
   "outputs": [],
   "source": [
    "def bool_to_binary(df:pd.DataFrame, cols:list)->pd.DataFrame:\n",
    "    \"\"\"AI is creating summary for bool_to_binary\n",
    "\n",
    "    Args:\n",
    "        df (pd.DataFrame): [description]\n",
    "        cols (list): [description]\n",
    "\n",
    "    Returns:\n",
    "        pd.DataFrame: [description]\n",
    "    \"\"\"\n",
    "    mapper = dict({True:1., False:0.})\n",
    "    for col in cols:\n",
    "        df[col] = df[col].map(mapper)\n",
    "    return df\n"
   ]
  },
  {
   "cell_type": "code",
   "execution_count": 42,
   "metadata": {},
   "outputs": [
    {
     "data": {
      "text/plain": [
       "0    0.0\n",
       "1    0.0\n",
       "2    0.0\n",
       "3    0.0\n",
       "4    0.0\n",
       "Name: CryoSleep, dtype: float64"
      ]
     },
     "execution_count": 42,
     "metadata": {},
     "output_type": "execute_result"
    }
   ],
   "source": [
    "train_df = bool_to_binary(train_df, [\"CryoSleep\", \"VIP\"])\n",
    "train_df[\"CryoSleep\"].head()"
   ]
  },
  {
   "cell_type": "code",
   "execution_count": 43,
   "metadata": {},
   "outputs": [
    {
     "data": {
      "text/plain": [
       "0     Europa\n",
       "1      Earth\n",
       "2     Europa\n",
       "3     Europa\n",
       "4      Earth\n",
       "5      Earth\n",
       "6      Earth\n",
       "8      Earth\n",
       "9     Europa\n",
       "11    Europa\n",
       "Name: HomePlanet, dtype: object"
      ]
     },
     "execution_count": 43,
     "metadata": {},
     "output_type": "execute_result"
    }
   ],
   "source": [
    "train_df[\"HomePlanet\"].head(10)"
   ]
  },
  {
   "cell_type": "code",
   "execution_count": 44,
   "metadata": {},
   "outputs": [
    {
     "data": {
      "text/plain": [
       "0       TRAPPIST-1e\n",
       "1       TRAPPIST-1e\n",
       "2       TRAPPIST-1e\n",
       "3       TRAPPIST-1e\n",
       "4       TRAPPIST-1e\n",
       "5     PSO J318.5-22\n",
       "6       TRAPPIST-1e\n",
       "8       TRAPPIST-1e\n",
       "9       55 Cancri e\n",
       "11      55 Cancri e\n",
       "Name: Destination, dtype: object"
      ]
     },
     "execution_count": 44,
     "metadata": {},
     "output_type": "execute_result"
    }
   ],
   "source": [
    "train_df[\"Destination\"].head(10)"
   ]
  },
  {
   "cell_type": "code",
   "execution_count": 45,
   "metadata": {},
   "outputs": [
    {
     "data": {
      "text/plain": [
       "0      Adult\n",
       "1       Teen\n",
       "2     Senior\n",
       "3      Adult\n",
       "4      Child\n",
       "5      Adult\n",
       "6       Teen\n",
       "8      Adult\n",
       "9      Child\n",
       "11     Adult\n",
       "Name: Age_group, dtype: category\n",
       "Categories (5, object): ['Child' < 'Teen' < 'Adult' < 'Senior' < 'Old']"
      ]
     },
     "execution_count": 45,
     "metadata": {},
     "output_type": "execute_result"
    }
   ],
   "source": [
    "train_df[\"Age_group\"].head(10)"
   ]
  },
  {
   "cell_type": "code",
   "execution_count": 46,
   "metadata": {},
   "outputs": [
    {
     "data": {
      "text/plain": [
       "0     B/0/P\n",
       "1     F/0/S\n",
       "2     A/0/S\n",
       "3     A/0/S\n",
       "4     F/1/S\n",
       "5     F/0/P\n",
       "6     F/2/S\n",
       "8     F/3/S\n",
       "9     B/1/P\n",
       "11    B/1/P\n",
       "Name: Cabin, dtype: object"
      ]
     },
     "execution_count": 46,
     "metadata": {},
     "output_type": "execute_result"
    }
   ],
   "source": [
    "train_df[\"Cabin\"].head(10)"
   ]
  },
  {
   "cell_type": "markdown",
   "metadata": {},
   "source": [
    "In the above cells, we convert our boolean features (`CryoSleep` and `VIP`) to binary numerical values. False has been mapped to 0.0 and True to 1.0. It's worth noting that we've converted these to float values rather than integers. This is often preferable in machine learning contexts as it allows for more flexibility in mathematical operations and is compatible with a wider range of algorithms and libraries.\n",
    "\n",
    "Also further inspection helps us plan our next steps:\n",
    "1. `HomePlanet` and `Destination` will need to be one-hot encoded.\n",
    "2. `Age_group` could be one-hot encoded or treated as an ordinal variable.\n",
    "3. `Cabin` will need to be split into separate features for `Deck`, `Number`, and `Side`."
   ]
  },
  {
   "cell_type": "code",
   "execution_count": 47,
   "metadata": {},
   "outputs": [],
   "source": [
    "def seggregate_cabin(df:pd.DataFrame)->pd.DataFrame:\n",
    "    \"\"\"AI is creating summary for seggregate_cabin\n",
    "\n",
    "    Args:\n",
    "        df (pd.DataFrame): [description]\n",
    "\n",
    "    Returns:\n",
    "        pd.DataFrame: [description]\n",
    "    \"\"\"\n",
    "    df[[\"Deck\", \"Number\", \"Side\"]]=df[\"Cabin\"].str.split(\"/\", expand=True)\n",
    "    df[\"Number\"] = df[\"Number\"].astype(float)\n",
    "    del df[\"Cabin\"]\n",
    "\n",
    "    return df"
   ]
  },
  {
   "cell_type": "code",
   "execution_count": 48,
   "metadata": {},
   "outputs": [
    {
     "data": {
      "text/plain": [
       "HomePlanet         3\n",
       "CryoSleep          2\n",
       "Destination        3\n",
       "VIP                2\n",
       "RoomService     1263\n",
       "FoodCourt       1489\n",
       "ShoppingMall    1098\n",
       "Spa             1306\n",
       "VRDeck          1290\n",
       "Transported        2\n",
       "Age_group          5\n",
       "Deck               8\n",
       "Number          1816\n",
       "Side               2\n",
       "dtype: int64"
      ]
     },
     "execution_count": 48,
     "metadata": {},
     "output_type": "execute_result"
    }
   ],
   "source": [
    "train_df = seggregate_cabin(train_df)\n",
    "train_df.nunique()"
   ]
  },
  {
   "cell_type": "code",
   "execution_count": 49,
   "metadata": {},
   "outputs": [],
   "source": [
    "def side_to_binary(df:pd.DataFrame)->pd.DataFrame:\n",
    "    \"\"\"AI is creating summary for side_to_binary\n",
    "\n",
    "    Args:\n",
    "        df (pd.DataFrame): [description]\n",
    "\n",
    "    Returns:\n",
    "        pd.DataFrame: [description]\n",
    "    \"\"\"\n",
    "    mapper = dict({'P':1., 'S':0.})\n",
    "    df[\"Side\"] = df[\"Side\"].map(mapper)\n",
    "    return df"
   ]
  },
  {
   "cell_type": "code",
   "execution_count": 50,
   "metadata": {},
   "outputs": [
    {
     "data": {
      "text/plain": [
       "0    1.0\n",
       "1    0.0\n",
       "2    0.0\n",
       "3    0.0\n",
       "4    0.0\n",
       "Name: Side, dtype: float64"
      ]
     },
     "execution_count": 50,
     "metadata": {},
     "output_type": "execute_result"
    }
   ],
   "source": [
    "train_df = side_to_binary(train_df)\n",
    "train_df[\"Side\"].head()"
   ]
  },
  {
   "cell_type": "markdown",
   "metadata": {},
   "source": [
    "Here, we perform operations splitting the `Cabin` feature into its constituent parts. From the output, we can see that we now have three new features:\n",
    "\n",
    "1. `Deck`: A categorical variable representing the deck of the ship (A, B, C, etc.)\n",
    "2. `Number`: A numerical variable representing the room number\n",
    "3. `Side`: A binary variable representing which side of the ship the cabin is on (P or S)\n",
    "\n",
    "We then convert the `Side` feature to binary values: P (`Port`) has been mapped to 1.0 and S (`Starboard`) to 0.0.\n",
    "\n",
    "This segregation of the Cabin feature is beneficial for several reasons:\n",
    "1. It allows our model to learn from each aspect of the cabin separately. For example, the deck might be more important than the specific room number in predicting transportation.\n",
    "2. It reduces the high cardinality problem we had with the original Cabin feature.\n",
    "3. It creates a mix of categorical (Deck), numerical (Number), and binary (Side) features, which can be handled appropriately by our model."
   ]
  },
  {
   "cell_type": "code",
   "execution_count": 51,
   "metadata": {},
   "outputs": [
    {
     "name": "stdout",
     "output_type": "stream",
     "text": [
      "<class 'pandas.core.series.Series'>\n",
      "Index: 8649 entries, 0 to 6920\n",
      "Series name: Number\n",
      "Non-Null Count  Dtype  \n",
      "--------------  -----  \n",
      "8452 non-null   float64\n",
      "dtypes: float64(1)\n",
      "memory usage: 135.1 KB\n"
     ]
    }
   ],
   "source": [
    "train_df[\"Number\"].info()\n"
   ]
  },
  {
   "cell_type": "code",
   "execution_count": 52,
   "metadata": {},
   "outputs": [
    {
     "data": {
      "text/plain": [
       "(np.float64(0.0), np.float64(1894.0))"
      ]
     },
     "execution_count": 52,
     "metadata": {},
     "output_type": "execute_result"
    }
   ],
   "source": [
    "train_df[\"Number\"].min(), train_df[\"Number\"].max()"
   ]
  },
  {
   "cell_type": "code",
   "execution_count": 53,
   "metadata": {},
   "outputs": [
    {
     "data": {
      "text/plain": [
       "np.int64(197)"
      ]
     },
     "execution_count": 53,
     "metadata": {},
     "output_type": "execute_result"
    }
   ],
   "source": [
    "train_df[\"Number\"].isna().sum()"
   ]
  },
  {
   "cell_type": "code",
   "execution_count": 54,
   "metadata": {},
   "outputs": [],
   "source": [
    "train_df = null_replacement(train_df, [\"Number\"])"
   ]
  },
  {
   "cell_type": "code",
   "execution_count": 55,
   "metadata": {},
   "outputs": [
    {
     "data": {
      "text/plain": [
       "np.int64(0)"
      ]
     },
     "execution_count": 55,
     "metadata": {},
     "output_type": "execute_result"
    }
   ],
   "source": [
    "train_df[\"Number\"].isna().sum()"
   ]
  },
  {
   "cell_type": "code",
   "execution_count": 56,
   "metadata": {},
   "outputs": [],
   "source": [
    "def discretize_number(data_frame: pd.DataFrame)->pd.DataFrame:\n",
    "   \n",
    "    # Define the bins \n",
    "    bins = [-1.0, 500.0, 1000.0, 1500.0, 2000.0]\n",
    "\n",
    "    # Define the labels \n",
    "    labels = ['tiny', 'small', 'medium', 'large']\n",
    "\n",
    "    # Discretize the column using the pd.cut() function\n",
    "    data_frame['Number'] = pd.cut(data_frame['Number'], bins=bins, labels=labels)\n",
    "\n",
    "    return data_frame\n"
   ]
  },
  {
   "cell_type": "code",
   "execution_count": 57,
   "metadata": {},
   "outputs": [],
   "source": [
    "train_df = discretize_number(train_df)"
   ]
  },
  {
   "cell_type": "code",
   "execution_count": 58,
   "metadata": {},
   "outputs": [
    {
     "data": {
      "text/plain": [
       "['tiny', 'small', 'medium', 'large']\n",
       "Categories (4, object): ['tiny' < 'small' < 'medium' < 'large']"
      ]
     },
     "execution_count": 58,
     "metadata": {},
     "output_type": "execute_result"
    }
   ],
   "source": [
    "train_df['Number'].unique()"
   ]
  },
  {
   "cell_type": "markdown",
   "metadata": {},
   "source": [
    "In these cells, we focus on processing the Number feature we extracted from Cabin. First, we examine its properties. \n",
    "\n",
    "We can see that it's a float64 type with 8452 non-null values, meaning there are 197 missing values.\n",
    "\n",
    "We then check its range, we see that it ranges from 0 to 1894.\n",
    "\n",
    "We handle the missing values by replacing them with the median value. Following this operation, we have no more missing values in the Number feature.\n",
    "\n",
    "Finally, we discretize the Number feature into categories. This discretization serves several purposes:\n",
    "1. It reduces the range of unique values, which can help prevent overfitting.\n",
    "2. It allows the model to capture non-linear relationships between room number and the target variable.\n",
    "3. It makes the feature more interpretable. For example, we might find that passengers in `large` numbered rooms are more likely to be transported."
   ]
  },
  {
   "cell_type": "code",
   "execution_count": 59,
   "metadata": {},
   "outputs": [],
   "source": [
    "def one_hot_encoding(df:pd.DataFrame, cols:list)->pd.DataFrame:\n",
    "    \"\"\"AI is creating summary for one_hot_encoding\n",
    "\n",
    "    Args:\n",
    "        df (pd.DataFrame): [description]\n",
    "        cols (list): [description]\n",
    "\n",
    "    Returns:\n",
    "        pd.DataFrame: [description]\n",
    "    \"\"\"\n",
    "    for col in cols:\n",
    "        df_encoded = pd.get_dummies(df[col], prefix=col)\n",
    "        del df[col]\n",
    "        df = pd.concat([df, df_encoded], axis=1)\n",
    "\n",
    "    return df\n"
   ]
  },
  {
   "cell_type": "code",
   "execution_count": 60,
   "metadata": {},
   "outputs": [],
   "source": [
    "train_df = one_hot_encoding(train_df, [\"HomePlanet\", \"Destination\", \"Deck\", \"Age_group\", \"Number\"])"
   ]
  },
  {
   "cell_type": "markdown",
   "metadata": {},
   "source": [
    "Okay, now, we're about to play a little game of bingo with our data! We're doing something called one-hot encoding. It's a fancy way of turning our category info into a format our space computers can understand better.\n",
    "\n",
    "Let's take `HomePlanet` for example. We've got three options: Earth, Europa, and Mars. Instead of having one column with these planet names, we're going to create three new columns:\n",
    "\n",
    "- `HomePlanet_Earth`\n",
    "- `HomePlanet_Europa`\n",
    "- `HomePlanet_Mars`\n",
    "\n",
    "Now, for each passenger, we'll put a 1 in the column of their home planet, and 0s in the others. It's like checking off boxes on a form:\n",
    "\n",
    "- If you're from Earth: [1, 0, 0]\n",
    "- If you're from Europa: [0, 1, 0]\n",
    "- If you're from Mars: [0, 0, 1]\n",
    "\n",
    "We're doing this for all our category stuff - not just `HomePlanet`, but things like `CryoSleep`, `Destination`, and so on.\n",
    "\n",
    "Why are we playing this cosmic checkbox game? Well, our space computers don't understand words like \"Earth\" or \"Mars\", but they love numbers! This way, we're translating our passenger info into a language our prediction machines can work with."
   ]
  },
  {
   "cell_type": "code",
   "execution_count": 61,
   "metadata": {},
   "outputs": [
    {
     "data": {
      "text/html": [
       "<div>\n",
       "<style scoped>\n",
       "    .dataframe tbody tr th:only-of-type {\n",
       "        vertical-align: middle;\n",
       "    }\n",
       "\n",
       "    .dataframe tbody tr th {\n",
       "        vertical-align: top;\n",
       "    }\n",
       "\n",
       "    .dataframe thead th {\n",
       "        text-align: right;\n",
       "    }\n",
       "</style>\n",
       "<table border=\"1\" class=\"dataframe\">\n",
       "  <thead>\n",
       "    <tr style=\"text-align: right;\">\n",
       "      <th></th>\n",
       "      <th>CryoSleep</th>\n",
       "      <th>VIP</th>\n",
       "      <th>RoomService</th>\n",
       "      <th>FoodCourt</th>\n",
       "      <th>ShoppingMall</th>\n",
       "      <th>Spa</th>\n",
       "      <th>VRDeck</th>\n",
       "      <th>Transported</th>\n",
       "      <th>Side</th>\n",
       "      <th>HomePlanet_Earth</th>\n",
       "      <th>...</th>\n",
       "      <th>Deck_T</th>\n",
       "      <th>Age_group_Child</th>\n",
       "      <th>Age_group_Teen</th>\n",
       "      <th>Age_group_Adult</th>\n",
       "      <th>Age_group_Senior</th>\n",
       "      <th>Age_group_Old</th>\n",
       "      <th>Number_tiny</th>\n",
       "      <th>Number_small</th>\n",
       "      <th>Number_medium</th>\n",
       "      <th>Number_large</th>\n",
       "    </tr>\n",
       "  </thead>\n",
       "  <tbody>\n",
       "    <tr>\n",
       "      <th>0</th>\n",
       "      <td>0.0</td>\n",
       "      <td>0.0</td>\n",
       "      <td>-0.359961</td>\n",
       "      <td>-0.297860</td>\n",
       "      <td>-0.352491</td>\n",
       "      <td>-0.293324</td>\n",
       "      <td>-0.280320</td>\n",
       "      <td>False</td>\n",
       "      <td>1.0</td>\n",
       "      <td>False</td>\n",
       "      <td>...</td>\n",
       "      <td>False</td>\n",
       "      <td>False</td>\n",
       "      <td>False</td>\n",
       "      <td>True</td>\n",
       "      <td>False</td>\n",
       "      <td>False</td>\n",
       "      <td>True</td>\n",
       "      <td>False</td>\n",
       "      <td>False</td>\n",
       "      <td>False</td>\n",
       "    </tr>\n",
       "    <tr>\n",
       "      <th>1</th>\n",
       "      <td>0.0</td>\n",
       "      <td>0.0</td>\n",
       "      <td>-0.177836</td>\n",
       "      <td>-0.291700</td>\n",
       "      <td>-0.297105</td>\n",
       "      <td>0.264363</td>\n",
       "      <td>-0.237639</td>\n",
       "      <td>True</td>\n",
       "      <td>0.0</td>\n",
       "      <td>True</td>\n",
       "      <td>...</td>\n",
       "      <td>False</td>\n",
       "      <td>False</td>\n",
       "      <td>True</td>\n",
       "      <td>False</td>\n",
       "      <td>False</td>\n",
       "      <td>False</td>\n",
       "      <td>True</td>\n",
       "      <td>False</td>\n",
       "      <td>False</td>\n",
       "      <td>False</td>\n",
       "    </tr>\n",
       "    <tr>\n",
       "      <th>2</th>\n",
       "      <td>0.0</td>\n",
       "      <td>1.0</td>\n",
       "      <td>-0.288114</td>\n",
       "      <td>2.150043</td>\n",
       "      <td>-0.352491</td>\n",
       "      <td>6.527927</td>\n",
       "      <td>-0.232789</td>\n",
       "      <td>False</td>\n",
       "      <td>0.0</td>\n",
       "      <td>False</td>\n",
       "      <td>...</td>\n",
       "      <td>False</td>\n",
       "      <td>False</td>\n",
       "      <td>False</td>\n",
       "      <td>False</td>\n",
       "      <td>True</td>\n",
       "      <td>False</td>\n",
       "      <td>True</td>\n",
       "      <td>False</td>\n",
       "      <td>False</td>\n",
       "      <td>False</td>\n",
       "    </tr>\n",
       "    <tr>\n",
       "      <th>3</th>\n",
       "      <td>0.0</td>\n",
       "      <td>0.0</td>\n",
       "      <td>-0.359961</td>\n",
       "      <td>0.580400</td>\n",
       "      <td>0.469440</td>\n",
       "      <td>3.088351</td>\n",
       "      <td>-0.093104</td>\n",
       "      <td>False</td>\n",
       "      <td>0.0</td>\n",
       "      <td>False</td>\n",
       "      <td>...</td>\n",
       "      <td>False</td>\n",
       "      <td>False</td>\n",
       "      <td>False</td>\n",
       "      <td>True</td>\n",
       "      <td>False</td>\n",
       "      <td>False</td>\n",
       "      <td>True</td>\n",
       "      <td>False</td>\n",
       "      <td>False</td>\n",
       "      <td>False</td>\n",
       "    </tr>\n",
       "    <tr>\n",
       "      <th>4</th>\n",
       "      <td>0.0</td>\n",
       "      <td>0.0</td>\n",
       "      <td>0.146315</td>\n",
       "      <td>-0.249943</td>\n",
       "      <td>-0.017958</td>\n",
       "      <td>0.280616</td>\n",
       "      <td>-0.278380</td>\n",
       "      <td>True</td>\n",
       "      <td>0.0</td>\n",
       "      <td>True</td>\n",
       "      <td>...</td>\n",
       "      <td>False</td>\n",
       "      <td>True</td>\n",
       "      <td>False</td>\n",
       "      <td>False</td>\n",
       "      <td>False</td>\n",
       "      <td>False</td>\n",
       "      <td>True</td>\n",
       "      <td>False</td>\n",
       "      <td>False</td>\n",
       "      <td>False</td>\n",
       "    </tr>\n",
       "    <tr>\n",
       "      <th>5</th>\n",
       "      <td>0.0</td>\n",
       "      <td>0.0</td>\n",
       "      <td>-0.359961</td>\n",
       "      <td>0.032771</td>\n",
       "      <td>-0.352491</td>\n",
       "      <td>0.002281</td>\n",
       "      <td>-0.280320</td>\n",
       "      <td>True</td>\n",
       "      <td>1.0</td>\n",
       "      <td>True</td>\n",
       "      <td>...</td>\n",
       "      <td>False</td>\n",
       "      <td>False</td>\n",
       "      <td>False</td>\n",
       "      <td>True</td>\n",
       "      <td>False</td>\n",
       "      <td>False</td>\n",
       "      <td>True</td>\n",
       "      <td>False</td>\n",
       "      <td>False</td>\n",
       "      <td>False</td>\n",
       "    </tr>\n",
       "    <tr>\n",
       "      <th>6</th>\n",
       "      <td>0.0</td>\n",
       "      <td>0.0</td>\n",
       "      <td>-0.289784</td>\n",
       "      <td>0.755642</td>\n",
       "      <td>-0.345844</td>\n",
       "      <td>-0.293324</td>\n",
       "      <td>-0.280320</td>\n",
       "      <td>True</td>\n",
       "      <td>0.0</td>\n",
       "      <td>True</td>\n",
       "      <td>...</td>\n",
       "      <td>False</td>\n",
       "      <td>False</td>\n",
       "      <td>True</td>\n",
       "      <td>False</td>\n",
       "      <td>False</td>\n",
       "      <td>False</td>\n",
       "      <td>True</td>\n",
       "      <td>False</td>\n",
       "      <td>False</td>\n",
       "      <td>False</td>\n",
       "    </tr>\n",
       "    <tr>\n",
       "      <th>8</th>\n",
       "      <td>0.0</td>\n",
       "      <td>0.0</td>\n",
       "      <td>-0.359961</td>\n",
       "      <td>0.239501</td>\n",
       "      <td>-0.314828</td>\n",
       "      <td>-0.073906</td>\n",
       "      <td>-0.280320</td>\n",
       "      <td>True</td>\n",
       "      <td>0.0</td>\n",
       "      <td>True</td>\n",
       "      <td>...</td>\n",
       "      <td>False</td>\n",
       "      <td>False</td>\n",
       "      <td>False</td>\n",
       "      <td>True</td>\n",
       "      <td>False</td>\n",
       "      <td>False</td>\n",
       "      <td>True</td>\n",
       "      <td>False</td>\n",
       "      <td>False</td>\n",
       "      <td>False</td>\n",
       "    </tr>\n",
       "    <tr>\n",
       "      <th>9</th>\n",
       "      <td>1.0</td>\n",
       "      <td>0.0</td>\n",
       "      <td>-0.359961</td>\n",
       "      <td>-0.297860</td>\n",
       "      <td>-0.352491</td>\n",
       "      <td>-0.293324</td>\n",
       "      <td>-0.280320</td>\n",
       "      <td>True</td>\n",
       "      <td>1.0</td>\n",
       "      <td>False</td>\n",
       "      <td>...</td>\n",
       "      <td>False</td>\n",
       "      <td>True</td>\n",
       "      <td>False</td>\n",
       "      <td>False</td>\n",
       "      <td>False</td>\n",
       "      <td>False</td>\n",
       "      <td>True</td>\n",
       "      <td>False</td>\n",
       "      <td>False</td>\n",
       "      <td>False</td>\n",
       "    </tr>\n",
       "    <tr>\n",
       "      <th>11</th>\n",
       "      <td>0.0</td>\n",
       "      <td>0.0</td>\n",
       "      <td>-0.294797</td>\n",
       "      <td>4.695835</td>\n",
       "      <td>0.952407</td>\n",
       "      <td>-0.181583</td>\n",
       "      <td>-0.160037</td>\n",
       "      <td>True</td>\n",
       "      <td>1.0</td>\n",
       "      <td>False</td>\n",
       "      <td>...</td>\n",
       "      <td>False</td>\n",
       "      <td>False</td>\n",
       "      <td>False</td>\n",
       "      <td>True</td>\n",
       "      <td>False</td>\n",
       "      <td>False</td>\n",
       "      <td>True</td>\n",
       "      <td>False</td>\n",
       "      <td>False</td>\n",
       "      <td>False</td>\n",
       "    </tr>\n",
       "  </tbody>\n",
       "</table>\n",
       "<p>10 rows × 32 columns</p>\n",
       "</div>"
      ],
      "text/plain": [
       "    CryoSleep  VIP  RoomService  FoodCourt  ShoppingMall       Spa    VRDeck  \\\n",
       "0         0.0  0.0    -0.359961  -0.297860     -0.352491 -0.293324 -0.280320   \n",
       "1         0.0  0.0    -0.177836  -0.291700     -0.297105  0.264363 -0.237639   \n",
       "2         0.0  1.0    -0.288114   2.150043     -0.352491  6.527927 -0.232789   \n",
       "3         0.0  0.0    -0.359961   0.580400      0.469440  3.088351 -0.093104   \n",
       "4         0.0  0.0     0.146315  -0.249943     -0.017958  0.280616 -0.278380   \n",
       "5         0.0  0.0    -0.359961   0.032771     -0.352491  0.002281 -0.280320   \n",
       "6         0.0  0.0    -0.289784   0.755642     -0.345844 -0.293324 -0.280320   \n",
       "8         0.0  0.0    -0.359961   0.239501     -0.314828 -0.073906 -0.280320   \n",
       "9         1.0  0.0    -0.359961  -0.297860     -0.352491 -0.293324 -0.280320   \n",
       "11        0.0  0.0    -0.294797   4.695835      0.952407 -0.181583 -0.160037   \n",
       "\n",
       "    Transported  Side  HomePlanet_Earth  ...  Deck_T  Age_group_Child  \\\n",
       "0         False   1.0             False  ...   False            False   \n",
       "1          True   0.0              True  ...   False            False   \n",
       "2         False   0.0             False  ...   False            False   \n",
       "3         False   0.0             False  ...   False            False   \n",
       "4          True   0.0              True  ...   False             True   \n",
       "5          True   1.0              True  ...   False            False   \n",
       "6          True   0.0              True  ...   False            False   \n",
       "8          True   0.0              True  ...   False            False   \n",
       "9          True   1.0             False  ...   False             True   \n",
       "11         True   1.0             False  ...   False            False   \n",
       "\n",
       "    Age_group_Teen  Age_group_Adult  Age_group_Senior  Age_group_Old  \\\n",
       "0            False             True             False          False   \n",
       "1             True            False             False          False   \n",
       "2            False            False              True          False   \n",
       "3            False             True             False          False   \n",
       "4            False            False             False          False   \n",
       "5            False             True             False          False   \n",
       "6             True            False             False          False   \n",
       "8            False             True             False          False   \n",
       "9            False            False             False          False   \n",
       "11           False             True             False          False   \n",
       "\n",
       "    Number_tiny  Number_small  Number_medium  Number_large  \n",
       "0          True         False          False         False  \n",
       "1          True         False          False         False  \n",
       "2          True         False          False         False  \n",
       "3          True         False          False         False  \n",
       "4          True         False          False         False  \n",
       "5          True         False          False         False  \n",
       "6          True         False          False         False  \n",
       "8          True         False          False         False  \n",
       "9          True         False          False         False  \n",
       "11         True         False          False         False  \n",
       "\n",
       "[10 rows x 32 columns]"
      ]
     },
     "execution_count": 61,
     "metadata": {},
     "output_type": "execute_result"
    }
   ],
   "source": [
    "train_df.head(10)"
   ]
  },
  {
   "cell_type": "code",
   "execution_count": 62,
   "metadata": {},
   "outputs": [
    {
     "data": {
      "text/plain": [
       "Index(['CryoSleep', 'VIP', 'RoomService', 'FoodCourt', 'ShoppingMall', 'Spa',\n",
       "       'VRDeck', 'Transported', 'Side', 'HomePlanet_Earth',\n",
       "       'HomePlanet_Europa', 'HomePlanet_Mars', 'Destination_55 Cancri e',\n",
       "       'Destination_PSO J318.5-22', 'Destination_TRAPPIST-1e', 'Deck_A',\n",
       "       'Deck_B', 'Deck_C', 'Deck_D', 'Deck_E', 'Deck_F', 'Deck_G', 'Deck_T',\n",
       "       'Age_group_Child', 'Age_group_Teen', 'Age_group_Adult',\n",
       "       'Age_group_Senior', 'Age_group_Old', 'Number_tiny', 'Number_small',\n",
       "       'Number_medium', 'Number_large'],\n",
       "      dtype='object')"
      ]
     },
     "execution_count": 62,
     "metadata": {},
     "output_type": "execute_result"
    }
   ],
   "source": [
    "train_df.columns"
   ]
  },
  {
   "cell_type": "markdown",
   "metadata": {},
   "source": [
    "However, it's worth noting that one-hot encoding can significantly increase the number of features in our dataset, which can lead to the curse of dimensionality if we have many categorical variables with many categories each. In this case, our categorical variables have a relatively small number of categories, so this shouldn't be a major concern."
   ]
  },
  {
   "cell_type": "code",
   "execution_count": 63,
   "metadata": {},
   "outputs": [
    {
     "data": {
      "text/plain": [
       "0    0\n",
       "1    1\n",
       "2    0\n",
       "3    0\n",
       "4    1\n",
       "Name: Transported, dtype: int64"
      ]
     },
     "execution_count": 63,
     "metadata": {},
     "output_type": "execute_result"
    }
   ],
   "source": [
    "train_df[\"Transported\"] = train_df[\"Transported\"].astype(int)\n",
    "train_df[\"Transported\"].head()"
   ]
  },
  {
   "cell_type": "code",
   "execution_count": 64,
   "metadata": {},
   "outputs": [
    {
     "data": {
      "text/plain": [
       "np.int64(202)"
      ]
     },
     "execution_count": 64,
     "metadata": {},
     "output_type": "execute_result"
    }
   ],
   "source": [
    "train_df[\"VIP\"].isna().sum()"
   ]
  },
  {
   "cell_type": "code",
   "execution_count": 65,
   "metadata": {},
   "outputs": [
    {
     "data": {
      "text/plain": [
       "np.int64(0)"
      ]
     },
     "execution_count": 65,
     "metadata": {},
     "output_type": "execute_result"
    }
   ],
   "source": [
    "train_df[\"VIP\"].fillna(False, inplace=True)\n",
    "train_df[\"VIP\"] =train_df[\"VIP\"].astype(float)\n",
    "train_df[\"VIP\"].isna().sum()"
   ]
  },
  {
   "cell_type": "code",
   "execution_count": 66,
   "metadata": {},
   "outputs": [
    {
     "data": {
      "text/plain": [
       "CryoSleep                    216\n",
       "VIP                            0\n",
       "RoomService                    0\n",
       "FoodCourt                      0\n",
       "ShoppingMall                   0\n",
       "Spa                            0\n",
       "VRDeck                         0\n",
       "Transported                    0\n",
       "Side                         197\n",
       "HomePlanet_Earth               0\n",
       "HomePlanet_Europa              0\n",
       "HomePlanet_Mars                0\n",
       "Destination_55 Cancri e        0\n",
       "Destination_PSO J318.5-22      0\n",
       "Destination_TRAPPIST-1e        0\n",
       "Deck_A                         0\n",
       "Deck_B                         0\n",
       "Deck_C                         0\n",
       "Deck_D                         0\n",
       "Deck_E                         0\n",
       "Deck_F                         0\n",
       "Deck_G                         0\n",
       "Deck_T                         0\n",
       "Age_group_Child                0\n",
       "Age_group_Teen                 0\n",
       "Age_group_Adult                0\n",
       "Age_group_Senior               0\n",
       "Age_group_Old                  0\n",
       "Number_tiny                    0\n",
       "Number_small                   0\n",
       "Number_medium                  0\n",
       "Number_large                   0\n",
       "dtype: int64"
      ]
     },
     "execution_count": 66,
     "metadata": {},
     "output_type": "execute_result"
    }
   ],
   "source": [
    "train_df.isna().sum()"
   ]
  },
  {
   "cell_type": "code",
   "execution_count": 67,
   "metadata": {},
   "outputs": [
    {
     "name": "stdout",
     "output_type": "stream",
     "text": [
      "<class 'pandas.core.frame.DataFrame'>\n",
      "Index: 8649 entries, 0 to 6920\n",
      "Data columns (total 32 columns):\n",
      " #   Column                     Non-Null Count  Dtype  \n",
      "---  ------                     --------------  -----  \n",
      " 0   CryoSleep                  8433 non-null   float64\n",
      " 1   VIP                        8649 non-null   float64\n",
      " 2   RoomService                8649 non-null   float64\n",
      " 3   FoodCourt                  8649 non-null   float64\n",
      " 4   ShoppingMall               8649 non-null   float64\n",
      " 5   Spa                        8649 non-null   float64\n",
      " 6   VRDeck                     8649 non-null   float64\n",
      " 7   Transported                8649 non-null   int64  \n",
      " 8   Side                       8452 non-null   float64\n",
      " 9   HomePlanet_Earth           8649 non-null   bool   \n",
      " 10  HomePlanet_Europa          8649 non-null   bool   \n",
      " 11  HomePlanet_Mars            8649 non-null   bool   \n",
      " 12  Destination_55 Cancri e    8649 non-null   bool   \n",
      " 13  Destination_PSO J318.5-22  8649 non-null   bool   \n",
      " 14  Destination_TRAPPIST-1e    8649 non-null   bool   \n",
      " 15  Deck_A                     8649 non-null   bool   \n",
      " 16  Deck_B                     8649 non-null   bool   \n",
      " 17  Deck_C                     8649 non-null   bool   \n",
      " 18  Deck_D                     8649 non-null   bool   \n",
      " 19  Deck_E                     8649 non-null   bool   \n",
      " 20  Deck_F                     8649 non-null   bool   \n",
      " 21  Deck_G                     8649 non-null   bool   \n",
      " 22  Deck_T                     8649 non-null   bool   \n",
      " 23  Age_group_Child            8649 non-null   bool   \n",
      " 24  Age_group_Teen             8649 non-null   bool   \n",
      " 25  Age_group_Adult            8649 non-null   bool   \n",
      " 26  Age_group_Senior           8649 non-null   bool   \n",
      " 27  Age_group_Old              8649 non-null   bool   \n",
      " 28  Number_tiny                8649 non-null   bool   \n",
      " 29  Number_small               8649 non-null   bool   \n",
      " 30  Number_medium              8649 non-null   bool   \n",
      " 31  Number_large               8649 non-null   bool   \n",
      "dtypes: bool(23), float64(8), int64(1)\n",
      "memory usage: 870.0 KB\n"
     ]
    }
   ],
   "source": [
    "train_df.info()"
   ]
  },
  {
   "cell_type": "code",
   "execution_count": 68,
   "metadata": {},
   "outputs": [
    {
     "data": {
      "text/plain": [
       "CryoSleep                    0\n",
       "VIP                          0\n",
       "RoomService                  0\n",
       "FoodCourt                    0\n",
       "ShoppingMall                 0\n",
       "Spa                          0\n",
       "VRDeck                       0\n",
       "Transported                  0\n",
       "Side                         0\n",
       "HomePlanet_Earth             0\n",
       "HomePlanet_Europa            0\n",
       "HomePlanet_Mars              0\n",
       "Destination_55 Cancri e      0\n",
       "Destination_PSO J318.5-22    0\n",
       "Destination_TRAPPIST-1e      0\n",
       "Deck_A                       0\n",
       "Deck_B                       0\n",
       "Deck_C                       0\n",
       "Deck_D                       0\n",
       "Deck_E                       0\n",
       "Deck_F                       0\n",
       "Deck_G                       0\n",
       "Deck_T                       0\n",
       "Age_group_Child              0\n",
       "Age_group_Teen               0\n",
       "Age_group_Adult              0\n",
       "Age_group_Senior             0\n",
       "Age_group_Old                0\n",
       "Number_tiny                  0\n",
       "Number_small                 0\n",
       "Number_medium                0\n",
       "Number_large                 0\n",
       "dtype: int64"
      ]
     },
     "execution_count": 68,
     "metadata": {},
     "output_type": "execute_result"
    }
   ],
   "source": [
    "train_df[\"CryoSleep\"].fillna(train_df[\"CryoSleep\"].median(axis=0), inplace=True)\n",
    "train_df[\"Side\"].fillna(train_df[\"Side\"].mode()[0], inplace=True)\n",
    "train_df.isna().sum()"
   ]
  },
  {
   "cell_type": "markdown",
   "metadata": {},
   "source": [
    "In these final preparation steps, we make sure our data is in the right format for model training. \n",
    "\n",
    "We convert our target variable `Transported` to integer type.\n",
    "\n",
    "This is necessary because many machine learning algorithms expect the target variable to be numeric.\n",
    "\n",
    "We then handle any remaining null values. For the VIP column, we fill null values with False and convert to float.\n",
    "\n",
    "For `CryoSleep` and `Side`, we use median imputation.\n",
    "\n",
    "After these operations, we have no more null values in our dataset. This is crucial because most machine learning algorithms cannot handle null values.\n",
    "\n",
    "Finally, we inspect our fully processed DataFrame and we save it to disk."
   ]
  },
  {
   "cell_type": "code",
   "execution_count": 69,
   "metadata": {},
   "outputs": [
    {
     "data": {
      "text/html": [
       "<div>\n",
       "<style scoped>\n",
       "    .dataframe tbody tr th:only-of-type {\n",
       "        vertical-align: middle;\n",
       "    }\n",
       "\n",
       "    .dataframe tbody tr th {\n",
       "        vertical-align: top;\n",
       "    }\n",
       "\n",
       "    .dataframe thead th {\n",
       "        text-align: right;\n",
       "    }\n",
       "</style>\n",
       "<table border=\"1\" class=\"dataframe\">\n",
       "  <thead>\n",
       "    <tr style=\"text-align: right;\">\n",
       "      <th></th>\n",
       "      <th>CryoSleep</th>\n",
       "      <th>VIP</th>\n",
       "      <th>RoomService</th>\n",
       "      <th>FoodCourt</th>\n",
       "      <th>ShoppingMall</th>\n",
       "      <th>Spa</th>\n",
       "      <th>VRDeck</th>\n",
       "      <th>Transported</th>\n",
       "      <th>Side</th>\n",
       "      <th>HomePlanet_Earth</th>\n",
       "      <th>...</th>\n",
       "      <th>Deck_T</th>\n",
       "      <th>Age_group_Child</th>\n",
       "      <th>Age_group_Teen</th>\n",
       "      <th>Age_group_Adult</th>\n",
       "      <th>Age_group_Senior</th>\n",
       "      <th>Age_group_Old</th>\n",
       "      <th>Number_tiny</th>\n",
       "      <th>Number_small</th>\n",
       "      <th>Number_medium</th>\n",
       "      <th>Number_large</th>\n",
       "    </tr>\n",
       "  </thead>\n",
       "  <tbody>\n",
       "    <tr>\n",
       "      <th>0</th>\n",
       "      <td>0.0</td>\n",
       "      <td>0.0</td>\n",
       "      <td>-0.359961</td>\n",
       "      <td>-0.297860</td>\n",
       "      <td>-0.352491</td>\n",
       "      <td>-0.293324</td>\n",
       "      <td>-0.280320</td>\n",
       "      <td>0</td>\n",
       "      <td>1.0</td>\n",
       "      <td>False</td>\n",
       "      <td>...</td>\n",
       "      <td>False</td>\n",
       "      <td>False</td>\n",
       "      <td>False</td>\n",
       "      <td>True</td>\n",
       "      <td>False</td>\n",
       "      <td>False</td>\n",
       "      <td>True</td>\n",
       "      <td>False</td>\n",
       "      <td>False</td>\n",
       "      <td>False</td>\n",
       "    </tr>\n",
       "    <tr>\n",
       "      <th>1</th>\n",
       "      <td>0.0</td>\n",
       "      <td>0.0</td>\n",
       "      <td>-0.177836</td>\n",
       "      <td>-0.291700</td>\n",
       "      <td>-0.297105</td>\n",
       "      <td>0.264363</td>\n",
       "      <td>-0.237639</td>\n",
       "      <td>1</td>\n",
       "      <td>0.0</td>\n",
       "      <td>True</td>\n",
       "      <td>...</td>\n",
       "      <td>False</td>\n",
       "      <td>False</td>\n",
       "      <td>True</td>\n",
       "      <td>False</td>\n",
       "      <td>False</td>\n",
       "      <td>False</td>\n",
       "      <td>True</td>\n",
       "      <td>False</td>\n",
       "      <td>False</td>\n",
       "      <td>False</td>\n",
       "    </tr>\n",
       "    <tr>\n",
       "      <th>2</th>\n",
       "      <td>0.0</td>\n",
       "      <td>1.0</td>\n",
       "      <td>-0.288114</td>\n",
       "      <td>2.150043</td>\n",
       "      <td>-0.352491</td>\n",
       "      <td>6.527927</td>\n",
       "      <td>-0.232789</td>\n",
       "      <td>0</td>\n",
       "      <td>0.0</td>\n",
       "      <td>False</td>\n",
       "      <td>...</td>\n",
       "      <td>False</td>\n",
       "      <td>False</td>\n",
       "      <td>False</td>\n",
       "      <td>False</td>\n",
       "      <td>True</td>\n",
       "      <td>False</td>\n",
       "      <td>True</td>\n",
       "      <td>False</td>\n",
       "      <td>False</td>\n",
       "      <td>False</td>\n",
       "    </tr>\n",
       "    <tr>\n",
       "      <th>3</th>\n",
       "      <td>0.0</td>\n",
       "      <td>0.0</td>\n",
       "      <td>-0.359961</td>\n",
       "      <td>0.580400</td>\n",
       "      <td>0.469440</td>\n",
       "      <td>3.088351</td>\n",
       "      <td>-0.093104</td>\n",
       "      <td>0</td>\n",
       "      <td>0.0</td>\n",
       "      <td>False</td>\n",
       "      <td>...</td>\n",
       "      <td>False</td>\n",
       "      <td>False</td>\n",
       "      <td>False</td>\n",
       "      <td>True</td>\n",
       "      <td>False</td>\n",
       "      <td>False</td>\n",
       "      <td>True</td>\n",
       "      <td>False</td>\n",
       "      <td>False</td>\n",
       "      <td>False</td>\n",
       "    </tr>\n",
       "    <tr>\n",
       "      <th>4</th>\n",
       "      <td>0.0</td>\n",
       "      <td>0.0</td>\n",
       "      <td>0.146315</td>\n",
       "      <td>-0.249943</td>\n",
       "      <td>-0.017958</td>\n",
       "      <td>0.280616</td>\n",
       "      <td>-0.278380</td>\n",
       "      <td>1</td>\n",
       "      <td>0.0</td>\n",
       "      <td>True</td>\n",
       "      <td>...</td>\n",
       "      <td>False</td>\n",
       "      <td>True</td>\n",
       "      <td>False</td>\n",
       "      <td>False</td>\n",
       "      <td>False</td>\n",
       "      <td>False</td>\n",
       "      <td>True</td>\n",
       "      <td>False</td>\n",
       "      <td>False</td>\n",
       "      <td>False</td>\n",
       "    </tr>\n",
       "  </tbody>\n",
       "</table>\n",
       "<p>5 rows × 32 columns</p>\n",
       "</div>"
      ],
      "text/plain": [
       "   CryoSleep  VIP  RoomService  FoodCourt  ShoppingMall       Spa    VRDeck  \\\n",
       "0        0.0  0.0    -0.359961  -0.297860     -0.352491 -0.293324 -0.280320   \n",
       "1        0.0  0.0    -0.177836  -0.291700     -0.297105  0.264363 -0.237639   \n",
       "2        0.0  1.0    -0.288114   2.150043     -0.352491  6.527927 -0.232789   \n",
       "3        0.0  0.0    -0.359961   0.580400      0.469440  3.088351 -0.093104   \n",
       "4        0.0  0.0     0.146315  -0.249943     -0.017958  0.280616 -0.278380   \n",
       "\n",
       "   Transported  Side  HomePlanet_Earth  ...  Deck_T  Age_group_Child  \\\n",
       "0            0   1.0             False  ...   False            False   \n",
       "1            1   0.0              True  ...   False            False   \n",
       "2            0   0.0             False  ...   False            False   \n",
       "3            0   0.0             False  ...   False            False   \n",
       "4            1   0.0              True  ...   False             True   \n",
       "\n",
       "   Age_group_Teen  Age_group_Adult  Age_group_Senior  Age_group_Old  \\\n",
       "0           False             True             False          False   \n",
       "1            True            False             False          False   \n",
       "2           False            False              True          False   \n",
       "3           False             True             False          False   \n",
       "4           False            False             False          False   \n",
       "\n",
       "   Number_tiny  Number_small  Number_medium  Number_large  \n",
       "0         True         False          False         False  \n",
       "1         True         False          False         False  \n",
       "2         True         False          False         False  \n",
       "3         True         False          False         False  \n",
       "4         True         False          False         False  \n",
       "\n",
       "[5 rows x 32 columns]"
      ]
     },
     "execution_count": 69,
     "metadata": {},
     "output_type": "execute_result"
    }
   ],
   "source": [
    "train_df.head()"
   ]
  },
  {
   "cell_type": "code",
   "execution_count": 70,
   "metadata": {},
   "outputs": [],
   "source": [
    "train_df.to_csv(data_path/\"train_df_processed.csv\", index=False)"
   ]
  },
  {
   "cell_type": "markdown",
   "metadata": {},
   "source": [
    "# Training of a Feedforward Neural network for Binary Classification"
   ]
  },
  {
   "cell_type": "code",
   "execution_count": 71,
   "metadata": {},
   "outputs": [
    {
     "data": {
      "text/html": [
       "<div>\n",
       "<style scoped>\n",
       "    .dataframe tbody tr th:only-of-type {\n",
       "        vertical-align: middle;\n",
       "    }\n",
       "\n",
       "    .dataframe tbody tr th {\n",
       "        vertical-align: top;\n",
       "    }\n",
       "\n",
       "    .dataframe thead th {\n",
       "        text-align: right;\n",
       "    }\n",
       "</style>\n",
       "<table border=\"1\" class=\"dataframe\">\n",
       "  <thead>\n",
       "    <tr style=\"text-align: right;\">\n",
       "      <th></th>\n",
       "      <th>CryoSleep</th>\n",
       "      <th>VIP</th>\n",
       "      <th>RoomService</th>\n",
       "      <th>FoodCourt</th>\n",
       "      <th>ShoppingMall</th>\n",
       "      <th>Spa</th>\n",
       "      <th>VRDeck</th>\n",
       "      <th>Transported</th>\n",
       "      <th>Side</th>\n",
       "      <th>HomePlanet_Earth</th>\n",
       "      <th>...</th>\n",
       "      <th>Deck_T</th>\n",
       "      <th>Age_group_Child</th>\n",
       "      <th>Age_group_Teen</th>\n",
       "      <th>Age_group_Adult</th>\n",
       "      <th>Age_group_Senior</th>\n",
       "      <th>Age_group_Old</th>\n",
       "      <th>Number_tiny</th>\n",
       "      <th>Number_small</th>\n",
       "      <th>Number_medium</th>\n",
       "      <th>Number_large</th>\n",
       "    </tr>\n",
       "  </thead>\n",
       "  <tbody>\n",
       "    <tr>\n",
       "      <th>0</th>\n",
       "      <td>0.0</td>\n",
       "      <td>0.0</td>\n",
       "      <td>-0.359961</td>\n",
       "      <td>-0.297860</td>\n",
       "      <td>-0.352491</td>\n",
       "      <td>-0.293324</td>\n",
       "      <td>-0.280320</td>\n",
       "      <td>0</td>\n",
       "      <td>1.0</td>\n",
       "      <td>False</td>\n",
       "      <td>...</td>\n",
       "      <td>False</td>\n",
       "      <td>False</td>\n",
       "      <td>False</td>\n",
       "      <td>True</td>\n",
       "      <td>False</td>\n",
       "      <td>False</td>\n",
       "      <td>True</td>\n",
       "      <td>False</td>\n",
       "      <td>False</td>\n",
       "      <td>False</td>\n",
       "    </tr>\n",
       "    <tr>\n",
       "      <th>1</th>\n",
       "      <td>0.0</td>\n",
       "      <td>0.0</td>\n",
       "      <td>-0.177836</td>\n",
       "      <td>-0.291700</td>\n",
       "      <td>-0.297105</td>\n",
       "      <td>0.264363</td>\n",
       "      <td>-0.237639</td>\n",
       "      <td>1</td>\n",
       "      <td>0.0</td>\n",
       "      <td>True</td>\n",
       "      <td>...</td>\n",
       "      <td>False</td>\n",
       "      <td>False</td>\n",
       "      <td>True</td>\n",
       "      <td>False</td>\n",
       "      <td>False</td>\n",
       "      <td>False</td>\n",
       "      <td>True</td>\n",
       "      <td>False</td>\n",
       "      <td>False</td>\n",
       "      <td>False</td>\n",
       "    </tr>\n",
       "    <tr>\n",
       "      <th>2</th>\n",
       "      <td>0.0</td>\n",
       "      <td>1.0</td>\n",
       "      <td>-0.288114</td>\n",
       "      <td>2.150043</td>\n",
       "      <td>-0.352491</td>\n",
       "      <td>6.527927</td>\n",
       "      <td>-0.232789</td>\n",
       "      <td>0</td>\n",
       "      <td>0.0</td>\n",
       "      <td>False</td>\n",
       "      <td>...</td>\n",
       "      <td>False</td>\n",
       "      <td>False</td>\n",
       "      <td>False</td>\n",
       "      <td>False</td>\n",
       "      <td>True</td>\n",
       "      <td>False</td>\n",
       "      <td>True</td>\n",
       "      <td>False</td>\n",
       "      <td>False</td>\n",
       "      <td>False</td>\n",
       "    </tr>\n",
       "    <tr>\n",
       "      <th>3</th>\n",
       "      <td>0.0</td>\n",
       "      <td>0.0</td>\n",
       "      <td>-0.359961</td>\n",
       "      <td>0.580400</td>\n",
       "      <td>0.469440</td>\n",
       "      <td>3.088351</td>\n",
       "      <td>-0.093104</td>\n",
       "      <td>0</td>\n",
       "      <td>0.0</td>\n",
       "      <td>False</td>\n",
       "      <td>...</td>\n",
       "      <td>False</td>\n",
       "      <td>False</td>\n",
       "      <td>False</td>\n",
       "      <td>True</td>\n",
       "      <td>False</td>\n",
       "      <td>False</td>\n",
       "      <td>True</td>\n",
       "      <td>False</td>\n",
       "      <td>False</td>\n",
       "      <td>False</td>\n",
       "    </tr>\n",
       "    <tr>\n",
       "      <th>4</th>\n",
       "      <td>0.0</td>\n",
       "      <td>0.0</td>\n",
       "      <td>0.146315</td>\n",
       "      <td>-0.249943</td>\n",
       "      <td>-0.017958</td>\n",
       "      <td>0.280616</td>\n",
       "      <td>-0.278380</td>\n",
       "      <td>1</td>\n",
       "      <td>0.0</td>\n",
       "      <td>True</td>\n",
       "      <td>...</td>\n",
       "      <td>False</td>\n",
       "      <td>True</td>\n",
       "      <td>False</td>\n",
       "      <td>False</td>\n",
       "      <td>False</td>\n",
       "      <td>False</td>\n",
       "      <td>True</td>\n",
       "      <td>False</td>\n",
       "      <td>False</td>\n",
       "      <td>False</td>\n",
       "    </tr>\n",
       "  </tbody>\n",
       "</table>\n",
       "<p>5 rows × 32 columns</p>\n",
       "</div>"
      ],
      "text/plain": [
       "   CryoSleep  VIP  RoomService  FoodCourt  ShoppingMall       Spa    VRDeck  \\\n",
       "0        0.0  0.0    -0.359961  -0.297860     -0.352491 -0.293324 -0.280320   \n",
       "1        0.0  0.0    -0.177836  -0.291700     -0.297105  0.264363 -0.237639   \n",
       "2        0.0  1.0    -0.288114   2.150043     -0.352491  6.527927 -0.232789   \n",
       "3        0.0  0.0    -0.359961   0.580400      0.469440  3.088351 -0.093104   \n",
       "4        0.0  0.0     0.146315  -0.249943     -0.017958  0.280616 -0.278380   \n",
       "\n",
       "   Transported  Side  HomePlanet_Earth  ...  Deck_T  Age_group_Child  \\\n",
       "0            0   1.0             False  ...   False            False   \n",
       "1            1   0.0              True  ...   False            False   \n",
       "2            0   0.0             False  ...   False            False   \n",
       "3            0   0.0             False  ...   False            False   \n",
       "4            1   0.0              True  ...   False             True   \n",
       "\n",
       "   Age_group_Teen  Age_group_Adult  Age_group_Senior  Age_group_Old  \\\n",
       "0           False             True             False          False   \n",
       "1            True            False             False          False   \n",
       "2           False            False              True          False   \n",
       "3           False             True             False          False   \n",
       "4           False            False             False          False   \n",
       "\n",
       "   Number_tiny  Number_small  Number_medium  Number_large  \n",
       "0         True         False          False         False  \n",
       "1         True         False          False         False  \n",
       "2         True         False          False         False  \n",
       "3         True         False          False         False  \n",
       "4         True         False          False         False  \n",
       "\n",
       "[5 rows x 32 columns]"
      ]
     },
     "execution_count": 71,
     "metadata": {},
     "output_type": "execute_result"
    }
   ],
   "source": [
    "df = pd.read_csv(data_path/\"train_df_processed.csv\")\n",
    "# df = df.applymap(lambda x: pd.to_numeric(x, errors='coerce'))\n",
    "df.head()"
   ]
  },
  {
   "cell_type": "code",
   "execution_count": 72,
   "metadata": {},
   "outputs": [
    {
     "name": "stdout",
     "output_type": "stream",
     "text": [
      "<class 'pandas.core.frame.DataFrame'>\n",
      "RangeIndex: 8649 entries, 0 to 8648\n",
      "Data columns (total 32 columns):\n",
      " #   Column                     Non-Null Count  Dtype  \n",
      "---  ------                     --------------  -----  \n",
      " 0   CryoSleep                  8649 non-null   float64\n",
      " 1   VIP                        8649 non-null   float64\n",
      " 2   RoomService                8649 non-null   float64\n",
      " 3   FoodCourt                  8649 non-null   float64\n",
      " 4   ShoppingMall               8649 non-null   float64\n",
      " 5   Spa                        8649 non-null   float64\n",
      " 6   VRDeck                     8649 non-null   float64\n",
      " 7   Transported                8649 non-null   int64  \n",
      " 8   Side                       8649 non-null   float64\n",
      " 9   HomePlanet_Earth           8649 non-null   bool   \n",
      " 10  HomePlanet_Europa          8649 non-null   bool   \n",
      " 11  HomePlanet_Mars            8649 non-null   bool   \n",
      " 12  Destination_55 Cancri e    8649 non-null   bool   \n",
      " 13  Destination_PSO J318.5-22  8649 non-null   bool   \n",
      " 14  Destination_TRAPPIST-1e    8649 non-null   bool   \n",
      " 15  Deck_A                     8649 non-null   bool   \n",
      " 16  Deck_B                     8649 non-null   bool   \n",
      " 17  Deck_C                     8649 non-null   bool   \n",
      " 18  Deck_D                     8649 non-null   bool   \n",
      " 19  Deck_E                     8649 non-null   bool   \n",
      " 20  Deck_F                     8649 non-null   bool   \n",
      " 21  Deck_G                     8649 non-null   bool   \n",
      " 22  Deck_T                     8649 non-null   bool   \n",
      " 23  Age_group_Child            8649 non-null   bool   \n",
      " 24  Age_group_Teen             8649 non-null   bool   \n",
      " 25  Age_group_Adult            8649 non-null   bool   \n",
      " 26  Age_group_Senior           8649 non-null   bool   \n",
      " 27  Age_group_Old              8649 non-null   bool   \n",
      " 28  Number_tiny                8649 non-null   bool   \n",
      " 29  Number_small               8649 non-null   bool   \n",
      " 30  Number_medium              8649 non-null   bool   \n",
      " 31  Number_large               8649 non-null   bool   \n",
      "dtypes: bool(23), float64(8), int64(1)\n",
      "memory usage: 802.5 KB\n"
     ]
    }
   ],
   "source": [
    "df.info()"
   ]
  },
  {
   "cell_type": "code",
   "execution_count": 73,
   "metadata": {},
   "outputs": [
    {
     "name": "stdout",
     "output_type": "stream",
     "text": [
      "<class 'pandas.core.frame.DataFrame'>\n",
      "RangeIndex: 8649 entries, 0 to 8648\n",
      "Data columns (total 32 columns):\n",
      " #   Column                     Non-Null Count  Dtype  \n",
      "---  ------                     --------------  -----  \n",
      " 0   CryoSleep                  8649 non-null   float64\n",
      " 1   VIP                        8649 non-null   float64\n",
      " 2   RoomService                8649 non-null   float64\n",
      " 3   FoodCourt                  8649 non-null   float64\n",
      " 4   ShoppingMall               8649 non-null   float64\n",
      " 5   Spa                        8649 non-null   float64\n",
      " 6   VRDeck                     8649 non-null   float64\n",
      " 7   Transported                8649 non-null   float64\n",
      " 8   Side                       8649 non-null   float64\n",
      " 9   HomePlanet_Earth           8649 non-null   float64\n",
      " 10  HomePlanet_Europa          8649 non-null   float64\n",
      " 11  HomePlanet_Mars            8649 non-null   float64\n",
      " 12  Destination_55 Cancri e    8649 non-null   float64\n",
      " 13  Destination_PSO J318.5-22  8649 non-null   float64\n",
      " 14  Destination_TRAPPIST-1e    8649 non-null   float64\n",
      " 15  Deck_A                     8649 non-null   float64\n",
      " 16  Deck_B                     8649 non-null   float64\n",
      " 17  Deck_C                     8649 non-null   float64\n",
      " 18  Deck_D                     8649 non-null   float64\n",
      " 19  Deck_E                     8649 non-null   float64\n",
      " 20  Deck_F                     8649 non-null   float64\n",
      " 21  Deck_G                     8649 non-null   float64\n",
      " 22  Deck_T                     8649 non-null   float64\n",
      " 23  Age_group_Child            8649 non-null   float64\n",
      " 24  Age_group_Teen             8649 non-null   float64\n",
      " 25  Age_group_Adult            8649 non-null   float64\n",
      " 26  Age_group_Senior           8649 non-null   float64\n",
      " 27  Age_group_Old              8649 non-null   float64\n",
      " 28  Number_tiny                8649 non-null   float64\n",
      " 29  Number_small               8649 non-null   float64\n",
      " 30  Number_medium              8649 non-null   float64\n",
      " 31  Number_large               8649 non-null   float64\n",
      "dtypes: float64(32)\n",
      "memory usage: 2.1 MB\n"
     ]
    }
   ],
   "source": [
    "df = df.astype(float)\n",
    "df.info()"
   ]
  },
  {
   "cell_type": "code",
   "execution_count": 74,
   "metadata": {},
   "outputs": [],
   "source": [
    "y = df[\"Transported\"].astype(int)\n",
    "X = df.drop([\"Transported\"], axis = 1)"
   ]
  },
  {
   "cell_type": "markdown",
   "metadata": {},
   "source": [
    "In the traning step so far, we have completed some standard steps in preparing data for supervised learning. Our target variable `Transported` is converted to integer type (0 or 1), while X contains all other columns in float32 that will be used as features to predict `Transported`."
   ]
  },
  {
   "cell_type": "code",
   "execution_count": 98,
   "metadata": {},
   "outputs": [],
   "source": [
    "X_train, X_test, y_train, y_test = train_test_split(X, y, test_size=0.2, random_state=42)"
   ]
  },
  {
   "cell_type": "code",
   "execution_count": 99,
   "metadata": {},
   "outputs": [
    {
     "data": {
      "text/plain": [
       "(6919, 31)"
      ]
     },
     "execution_count": 99,
     "metadata": {},
     "output_type": "execute_result"
    }
   ],
   "source": [
    "X_train.shape"
   ]
  },
  {
   "cell_type": "markdown",
   "metadata": {},
   "source": [
    "Alright, we're about to launch our data into training mode! Here's the scoop:\n",
    "\n",
    "1. We're taking a big chunk of our cosmic passenger list - about 80% of it (that's 6919 lucky space travelers) - and we're using that to teach our prediction machine. It's like we're sending these passengers to Space Prediction School!\n",
    "\n",
    "2. After all our data tidying and transforming, we've ended up with 31 different bits of info about each passenger. It's like we've got 31 different clues about each person to help us guess if they're going to get teleported or not.\n",
    "\n",
    "Now, why aren't we using all our data for training? Well, it's like we're holding a space quiz. We use most of our info to study (that's our training data), but we keep some back to test ourselves later (that's our test data). This way, we can see how well we've learned and if we can make good guesses about passengers we haven't seen before.\n",
    "\n",
    "Oh, and see that `random_state=42` bit? That's our random number generator. We're setting it to 42 (the answer to life, the universe, and everything, of course!) so that every time we run this, we get the same split. It's like making sure we're always dealing the cards the same way in a casino."
   ]
  },
  {
   "cell_type": "code",
   "execution_count": 76,
   "metadata": {},
   "outputs": [],
   "source": [
    "class NNBinaryClassifier(nn.Module):\n",
    "    def __init__(self, input_size):\n",
    "        super(NNBinaryClassifier, self).__init__()\n",
    "        self.input_size = input_size\n",
    "        self.model = nn.Sequential(\n",
    "            nn.Linear(self.input_size, 64), \n",
    "            nn.BatchNorm1d(64), \n",
    "            nn.ReLU(), \n",
    "            nn.Dropout(0.5), \n",
    "            nn.Linear(64, 128), \n",
    "            nn.BatchNorm1d(128), \n",
    "            nn.ReLU(), \n",
    "            nn.Dropout(0.5),\n",
    "            nn.Linear(128, 64), \n",
    "            nn.BatchNorm1d(64), \n",
    "            nn.ReLU(), \n",
    "            nn.Dropout(0.5),\n",
    "            nn.Linear(64, 32), \n",
    "            nn.BatchNorm1d(32), \n",
    "            nn.ReLU(), \n",
    "            nn.Dropout(0.5),\n",
    "            nn.Linear(32, 1), \n",
    "            nn.Sigmoid()\n",
    "        )\n",
    "\n",
    "    def forward(self, data):\n",
    "        output = self.model(data)\n",
    "        return output"
   ]
  },
  {
   "cell_type": "markdown",
   "metadata": {},
   "source": [
    "Okay, folks, we're about to build our very own nural network designed to crack the code of who's getting teleported on our space journey. Let's break down this network:\n",
    "\n",
    "1. First, we've got our input layer. It's like the ears and eyes of our network, taking in all 31 pieces of info we've gathered about each passenger.\n",
    "\n",
    "2. Then we've got our first hidden layer. Think of it as 64 little neurons, each looking at the info in a different way. They're using something called ReLU activation - it's like their intuition, helping them spot patterns. We've also got batch normalization (keeping their work consistent) and 50% dropout (making sure they don't become one-trick ponies).\n",
    "\n",
    "3. Our second hidden layer is even bigger - 128 space neurons! They're taking what the first layer found and digging deeper.\n",
    "\n",
    "4. The third layer dials it back to 64 neurons again. They're starting to piece together the big picture.\n",
    "\n",
    "5. Our fourth layer narrows it down to 32 final analysts. They're putting the finishing touches on our prediction.\n",
    "\n",
    "6. Finally, we've got our output layer. This is the fortune teller of our space brain. It gives us a number between 0 and 1, kind of like a percentage chance of getting teleported.\n",
    "\n",
    "All these layers work together like an assembly line, each one refining our prediction a little more. The ReLU activation is like giving our neurons magnifying glasses, batch normalization is like making sure they're all using the same scale, and dropout is like randomly taking away some of their tools so they don't rely on them too much."
   ]
  },
  {
   "cell_type": "code",
   "execution_count": 85,
   "metadata": {},
   "outputs": [],
   "source": [
    "binaryClf = NNBinaryClassifier(X_train.shape[1])\n",
    "criterion  = nn.BCELoss()\n",
    "optimizer = optim.Adam(binaryClf.parameters(), lr = 0.0001)\n",
    "epochs = 500\n",
    "bs = 16"
   ]
  },
  {
   "cell_type": "markdown",
   "metadata": {},
   "source": [
    "We're using `Binary Cross Entropy` Loss, which is appropriate for binary classification problems, and the `Adam` optimizer with a learning rate of 0.0001. We'll train for 500 epochs with a batch size of 16."
   ]
  },
  {
   "cell_type": "code",
   "execution_count": 86,
   "metadata": {},
   "outputs": [],
   "source": [
    "X_train_tensor = torch.tensor(X_train.values, dtype=torch.float32)\n",
    "X_test_tensor = torch.tensor(X_test.values, dtype=torch.float32)\n",
    "y_train_tensor = torch.tensor(y_train.values, dtype=torch.float32).view(-1,1)\n",
    "y_test_tensor = torch.tensor(y_test.values, dtype=torch.float32).view(-1,1)"
   ]
  },
  {
   "cell_type": "code",
   "execution_count": 87,
   "metadata": {},
   "outputs": [
    {
     "data": {
      "text/plain": [
       "(torch.Size([6919, 31]),\n",
       " torch.Size([1730, 31]),\n",
       " torch.Size([6919, 1]),\n",
       " torch.Size([1730, 1]))"
      ]
     },
     "execution_count": 87,
     "metadata": {},
     "output_type": "execute_result"
    }
   ],
   "source": [
    "X_train_tensor.shape, X_test_tensor.shape, y_train_tensor.shape, y_test_tensor.shape"
   ]
  },
  {
   "cell_type": "code",
   "execution_count": 88,
   "metadata": {},
   "outputs": [],
   "source": [
    "train_dataset = TensorDataset(X_train_tensor, y_train_tensor)\n",
    "train_loader = DataLoader(train_dataset, batch_size=bs, shuffle=True)"
   ]
  },
  {
   "cell_type": "markdown",
   "metadata": {},
   "source": [
    "The above few steps, prepares our data in a format that PyTorch can efficiently use during training."
   ]
  },
  {
   "cell_type": "code",
   "execution_count": 89,
   "metadata": {},
   "outputs": [
    {
     "name": "stdout",
     "output_type": "stream",
     "text": [
      "After epoch 0, train loss : 0.7135845349787564, test loss : 0.6811375021934509.\n",
      "After epoch 100, train loss : 0.45995591704757327, test loss : 0.40071630477905273.\n",
      "After epoch 200, train loss : 0.44159275141929644, test loss : 0.4013420045375824.\n",
      "After epoch 300, train loss : 0.4348492599662402, test loss : 0.3940751850605011.\n",
      "After epoch 400, train loss : 0.4317046499211023, test loss : 0.39686837792396545.\n"
     ]
    }
   ],
   "source": [
    "train_loss = []\n",
    "test_loss = []\n",
    "\n",
    "for epoch in range(epochs):\n",
    "    binaryClf.train()\n",
    "    epoch_train_loss = 0\n",
    "\n",
    "    for batch_X, batch_y in train_loader:\n",
    "        optimizer.zero_grad()\n",
    "        batch_y_hat = binaryClf(batch_X)\n",
    "        batch_loss = criterion(batch_y_hat, batch_y)\n",
    "        batch_loss.backward()\n",
    "        optimizer.step()\n",
    "        epoch_train_loss += batch_loss.item()\n",
    "    \n",
    "    epoch_train_loss /= len(train_loader)\n",
    "\n",
    "    if epoch % 100 == 0:\n",
    "        binaryClf.eval()\n",
    "        with torch.no_grad():\n",
    "            y_hat = binaryClf(X_test_tensor)\n",
    "            y_hat = torch.clamp(y_hat, 0, 1)\n",
    "            val_loss = criterion(y_hat, y_test_tensor).item()\n",
    "        train_loss.append(epoch_train_loss)\n",
    "        test_loss.append(val_loss)\n",
    "\n",
    "        print(f\"After epoch {epoch}, train loss : {epoch_train_loss}, test loss : {val_loss}.\")"
   ]
  },
  {
   "cell_type": "markdown",
   "metadata": {},
   "source": [
    "We can see that both training and test loss decrease over time, indicating that our model is learning. The fact that test loss is decreasing along with training loss suggests that our model is generalizing well and not overfitting."
   ]
  },
  {
   "cell_type": "code",
   "execution_count": 90,
   "metadata": {},
   "outputs": [
    {
     "data": {
      "image/png": "[encoded data removed]",
      "text/plain": [
       "<Figure size 640x480 with 1 Axes>"
      ]
     },
     "metadata": {},
     "output_type": "display_data"
    }
   ],
   "source": [
    "plt.plot(train_loss, label=\"Train loss\", color=\"red\")\n",
    "plt.plot(test_loss, label=\"Test loss\", color='blue')\n",
    "plt.xlabel(\"epoch\")\n",
    "plt.ylabel(\"loss\")\n",
    "plt.title(\"Loss for feedforward network on Spaceship Titanic data\")\n",
    "plt.legend()\n",
    "plt.show()"
   ]
  },
  {
   "cell_type": "markdown",
   "metadata": {},
   "source": [
    "The resulting plot shows both training and test loss decreasing and converging, which is a good sign. It suggests that our model is learning effectively and generalizing well to unseen data.\n",
    "\n",
    "Then, we save the model to disk for allowing us to use it later for predictions without having to retrain."
   ]
  },
  {
   "cell_type": "code",
   "execution_count": 91,
   "metadata": {},
   "outputs": [],
   "source": [
    "torch.save(binaryClf.state_dict(), model_path)"
   ]
  },
  {
   "cell_type": "markdown",
   "metadata": {},
   "source": [
    "# Test Set Prediction"
   ]
  },
  {
   "cell_type": "code",
   "execution_count": 101,
   "metadata": {},
   "outputs": [
    {
     "data": {
      "text/plain": [
       "<All keys matched successfully>"
      ]
     },
     "execution_count": 101,
     "metadata": {},
     "output_type": "execute_result"
    }
   ],
   "source": [
    "binaryClf2 = NNBinaryClassifier(X_train.shape[1])\n",
    "binaryClf2.load_state_dict(torch.load(model_path))"
   ]
  },
  {
   "cell_type": "code",
   "execution_count": 102,
   "metadata": {},
   "outputs": [
    {
     "data": {
      "text/plain": [
       "NNBinaryClassifier(\n",
       "  (model): Sequential(\n",
       "    (0): Linear(in_features=31, out_features=64, bias=True)\n",
       "    (1): BatchNorm1d(64, eps=1e-05, momentum=0.1, affine=True, track_running_stats=True)\n",
       "    (2): ReLU()\n",
       "    (3): Dropout(p=0.5, inplace=False)\n",
       "    (4): Linear(in_features=64, out_features=128, bias=True)\n",
       "    (5): BatchNorm1d(128, eps=1e-05, momentum=0.1, affine=True, track_running_stats=True)\n",
       "    (6): ReLU()\n",
       "    (7): Dropout(p=0.5, inplace=False)\n",
       "    (8): Linear(in_features=128, out_features=64, bias=True)\n",
       "    (9): BatchNorm1d(64, eps=1e-05, momentum=0.1, affine=True, track_running_stats=True)\n",
       "    (10): ReLU()\n",
       "    (11): Dropout(p=0.5, inplace=False)\n",
       "    (12): Linear(in_features=64, out_features=32, bias=True)\n",
       "    (13): BatchNorm1d(32, eps=1e-05, momentum=0.1, affine=True, track_running_stats=True)\n",
       "    (14): ReLU()\n",
       "    (15): Dropout(p=0.5, inplace=False)\n",
       "    (16): Linear(in_features=32, out_features=1, bias=True)\n",
       "    (17): Sigmoid()\n",
       "  )\n",
       ")"
      ]
     },
     "execution_count": 102,
     "metadata": {},
     "output_type": "execute_result"
    }
   ],
   "source": [
    "binaryClf2.eval()"
   ]
  },
  {
   "cell_type": "code",
   "execution_count": 119,
   "metadata": {},
   "outputs": [],
   "source": [
    "X_test_tensor = torch.tensor(X_test.values, dtype=torch.float32)\n",
    "with torch.no_grad():\n",
    "    y_hat_logits = binaryClf2(X_test_tensor)"
   ]
  },
  {
   "cell_type": "code",
   "execution_count": 120,
   "metadata": {},
   "outputs": [],
   "source": [
    "y_hat = (y_hat_logits > 0.5).float()"
   ]
  },
  {
   "cell_type": "code",
   "execution_count": 122,
   "metadata": {},
   "outputs": [],
   "source": [
    "accuracy = accuracy_score(y_test, y_hat)"
   ]
  },
  {
   "cell_type": "code",
   "execution_count": 123,
   "metadata": {},
   "outputs": [
    {
     "data": {
      "text/plain": [
       "0.8069364161849711"
      ]
     },
     "execution_count": 123,
     "metadata": {},
     "output_type": "execute_result"
    }
   ],
   "source": [
    "accuracy"
   ]
  },
  {
   "cell_type": "markdown",
   "metadata": {},
   "source": [
    "We do inference on the unseen test data. \n",
    "\n",
    "The output of the accuracy `0.8069364161849711` indicates that our model correctly predicts whether a passenger was transported about 80.69% of the time. \n",
    "\n",
    "This is a solid performance for a binary classification task."
   ]
  },
  {
   "cell_type": "code",
   "execution_count": 127,
   "metadata": {},
   "outputs": [
    {
     "name": "stdout",
     "output_type": "stream",
     "text": [
      "              precision    recall  f1-score   support\n",
      "\n",
      "           0       0.78      0.87      0.82       897\n",
      "           1       0.84      0.74      0.79       833\n",
      "\n",
      "    accuracy                           0.81      1730\n",
      "   macro avg       0.81      0.80      0.81      1730\n",
      "weighted avg       0.81      0.81      0.81      1730\n",
      "\n"
     ]
    }
   ],
   "source": [
    "print(classification_report(y_test, y_hat))"
   ]
  },
  {
   "cell_type": "code",
   "execution_count": 131,
   "metadata": {},
   "outputs": [
    {
     "name": "stdout",
     "output_type": "stream",
     "text": [
      "[[782 115]\n",
      " [219 614]]\n"
     ]
    }
   ],
   "source": [
    "print(confusion_matrix(y_test, y_hat, labels=[0, 1]))"
   ]
  },
  {
   "cell_type": "markdown",
   "metadata": {},
   "source": [
    "Alright, let's break down how our network performance! We've got a bunch of numbers here, but don't worry - I'll translate this.\n",
    "\n",
    "First off, our model seems to be a bit better at spotting who's staying on the ship versus who's getting zapped away. It's like our space brain has a slight preference for spotting the homebodies.\n",
    "\n",
    "Let's look at the non-transported folks:\n",
    "- Pros: We're catching most of these stayers. If you're not getting teleported, our model is pretty good at figuring that out.\n",
    "- Cons: We're also calling some teleported people \"non-transported\" by mistake. Oops!\n",
    "\n",
    "Now for the transported passengers:\n",
    "- Pros: When we say someone's getting zapped, we're usually right.\n",
    "- Cons: We're missing some zapped folks, accidentally calling them staynon-transporteders.\n",
    "\n",
    "Overall, our network is doing a pretty balanced job. It's not perfect, but hey, predicting space teleportation isn't easy!\n",
    "\n",
    "Now, let's look at our classification scoreboard:\n",
    "- 782 times, we correctly said \"You're staying on the ship!\"\n",
    "- 115 times, we said \"You're getting zapped!\" but they actually stayed. Awkward...\n",
    "- 219 times, we said \"You're staying!\" but they got zapped. Surprise teleportation!\n",
    "- 614 times, we correctly said \"You're getting zapped!\"\n",
    "\n",
    "So, what's the conclusion here? \n",
    "\n",
    "Our network is doing a pretty good job, but it's got a slight preference for keeping people on the ship. It's like our model is a bit of a worrier - it would rather tell you to pack your bags than have you accidentally left behind!\n",
    "\n",
    "Not too shabby for our first attempt at predicting space teleportation, right? But remember, in machine learning, there's always room for improvement."
   ]
  }
 ],
 "metadata": {
  "kernelspec": {
   "display_name": "Python 3 (ipykernel)",
   "language": "python",
   "name": "python3"
  },
  "language_info": {
   "codemirror_mode": {
    "name": "ipython",
    "version": 3
   },
   "file_extension": ".py",
   "mimetype": "text/x-python",
   "name": "python",
   "nbconvert_exporter": "python",
   "pygments_lexer": "ipython3",
   "version": "3.10.15"
  }
 },
 "nbformat": 4,
 "nbformat_minor": 4
}
